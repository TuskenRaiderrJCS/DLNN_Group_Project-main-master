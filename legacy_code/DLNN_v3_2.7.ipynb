{
  "cells": [
    {
      "cell_type": "markdown",
      "metadata": {
        "id": "UTRuFl-uEUsk"
      },
      "source": [
        "# Table of contents\n",
        "1. [Requirements](#Requirements)\n",
        "2. [Introduction](#Introduction)\n",
        "3. [Imports](#Imports)\n",
        "    1. [Libraries](#Libraries)\n",
        "    2. [Data](#Data)\n",
        "4. [Data Exploration](#data-exploration)\n",
        "5. [Modelling](#modelling)\n",
        "    1. [Baseline](#baseline)\n",
        "    2. [LSTM](#lstm)\n",
        "6. [Results Analysis](#results-analysis)"
      ]
    },
    {
      "cell_type": "markdown",
      "metadata": {
        "id": "XOYRa5PPEUss"
      },
      "source": [
        "# Requirements"
      ]
    },
    {
      "cell_type": "markdown",
      "metadata": {
        "id": "_cMtvw-0EUsu"
      },
      "source": []
    },
    {
      "cell_type": "code",
      "execution_count": 1,
      "metadata": {
        "colab": {
          "base_uri": "https://localhost:8080/"
        },
        "id": "BUWEcIpsKX88",
        "outputId": "acdcf13d-78e0-413b-f224-b8e6fb83c70a"
      },
      "outputs": [
        {
          "name": "stdout",
          "output_type": "stream",
          "text": [
            "Requirement already satisfied: tensorboard in c:\\users\\joaocravinhosantos\\anaconda3\\lib\\site-packages (2.11.0)\n",
            "Requirement already satisfied: grpcio>=1.24.3 in c:\\users\\joaocravinhosantos\\anaconda3\\lib\\site-packages (from tensorboard) (1.51.1)\n",
            "Requirement already satisfied: numpy>=1.12.0 in c:\\users\\joaocravinhosantos\\anaconda3\\lib\\site-packages (from tensorboard) (1.23.5)\n",
            "Requirement already satisfied: requests<3,>=2.21.0 in c:\\users\\joaocravinhosantos\\anaconda3\\lib\\site-packages (from tensorboard) (2.25.1)\n",
            "Requirement already satisfied: google-auth<3,>=1.6.3 in c:\\users\\joaocravinhosantos\\anaconda3\\lib\\site-packages (from tensorboard) (2.16.0)\n",
            "Requirement already satisfied: tensorboard-data-server<0.7.0,>=0.6.0 in c:\\users\\joaocravinhosantos\\anaconda3\\lib\\site-packages (from tensorboard) (0.6.1)\n",
            "Requirement already satisfied: markdown>=2.6.8 in c:\\users\\joaocravinhosantos\\anaconda3\\lib\\site-packages (from tensorboard) (3.4.1)\n",
            "Requirement already satisfied: werkzeug>=1.0.1 in c:\\users\\joaocravinhosantos\\anaconda3\\lib\\site-packages (from tensorboard) (1.0.1)\n",
            "Requirement already satisfied: wheel>=0.26 in c:\\users\\joaocravinhosantos\\anaconda3\\lib\\site-packages (from tensorboard) (0.36.2)\n",
            "Requirement already satisfied: google-auth-oauthlib<0.5,>=0.4.1 in c:\\users\\joaocravinhosantos\\anaconda3\\lib\\site-packages (from tensorboard) (0.4.6)\n",
            "Requirement already satisfied: setuptools>=41.0.0 in c:\\users\\joaocravinhosantos\\anaconda3\\lib\\site-packages (from tensorboard) (52.0.0.post20210125)\n",
            "Requirement already satisfied: absl-py>=0.4 in c:\\users\\joaocravinhosantos\\anaconda3\\lib\\site-packages (from tensorboard) (1.3.0)\n",
            "Requirement already satisfied: protobuf<4,>=3.9.2 in c:\\users\\joaocravinhosantos\\anaconda3\\lib\\site-packages (from tensorboard) (3.19.6)\n",
            "Requirement already satisfied: tensorboard-plugin-wit>=1.6.0 in c:\\users\\joaocravinhosantos\\anaconda3\\lib\\site-packages (from tensorboard) (1.8.1)\n",
            "Requirement already satisfied: six>=1.9.0 in c:\\users\\joaocravinhosantos\\anaconda3\\lib\\site-packages (from google-auth<3,>=1.6.3->tensorboard) (1.15.0)\n",
            "Requirement already satisfied: pyasn1-modules>=0.2.1 in c:\\users\\joaocravinhosantos\\anaconda3\\lib\\site-packages (from google-auth<3,>=1.6.3->tensorboard) (0.2.8)\n",
            "Requirement already satisfied: cachetools<6.0,>=2.0.0 in c:\\users\\joaocravinhosantos\\anaconda3\\lib\\site-packages (from google-auth<3,>=1.6.3->tensorboard) (5.2.1)\n",
            "Requirement already satisfied: rsa<5,>=3.1.4 in c:\\users\\joaocravinhosantos\\anaconda3\\lib\\site-packages (from google-auth<3,>=1.6.3->tensorboard) (4.9)\n",
            "Requirement already satisfied: requests-oauthlib>=0.7.0 in c:\\users\\joaocravinhosantos\\anaconda3\\lib\\site-packages (from google-auth-oauthlib<0.5,>=0.4.1->tensorboard) (1.3.1)\n",
            "Requirement already satisfied: importlib-metadata>=4.4 in c:\\users\\joaocravinhosantos\\anaconda3\\lib\\site-packages (from markdown>=2.6.8->tensorboard) (6.0.0)\n",
            "Requirement already satisfied: urllib3<1.27,>=1.21.1 in c:\\users\\joaocravinhosantos\\anaconda3\\lib\\site-packages (from requests<3,>=2.21.0->tensorboard) (1.26.4)\n",
            "Requirement already satisfied: idna<3,>=2.5 in c:\\users\\joaocravinhosantos\\anaconda3\\lib\\site-packages (from requests<3,>=2.21.0->tensorboard) (2.10)\n",
            "Requirement already satisfied: chardet<5,>=3.0.2 in c:\\users\\joaocravinhosantos\\anaconda3\\lib\\site-packages (from requests<3,>=2.21.0->tensorboard) (4.0.0)\n",
            "Requirement already satisfied: certifi>=2017.4.17 in c:\\users\\joaocravinhosantos\\anaconda3\\lib\\site-packages (from requests<3,>=2.21.0->tensorboard) (2020.12.5)\n",
            "Requirement already satisfied: zipp>=0.5 in c:\\users\\joaocravinhosantos\\anaconda3\\lib\\site-packages (from importlib-metadata>=4.4->markdown>=2.6.8->tensorboard) (3.4.1)\n",
            "Requirement already satisfied: pyasn1<0.5.0,>=0.4.6 in c:\\users\\joaocravinhosantos\\anaconda3\\lib\\site-packages (from pyasn1-modules>=0.2.1->google-auth<3,>=1.6.3->tensorboard) (0.4.8)\n",
            "Requirement already satisfied: oauthlib>=3.0.0 in c:\\users\\joaocravinhosantos\\anaconda3\\lib\\site-packages (from requests-oauthlib>=0.7.0->google-auth-oauthlib<0.5,>=0.4.1->tensorboard) (3.2.2)\n"
          ]
        }
      ],
      "source": [
        "! pip install tensorboard"
      ]
    },
    {
      "cell_type": "code",
      "execution_count": 2,
      "metadata": {
        "colab": {
          "base_uri": "https://localhost:8080/"
        },
        "id": "pf-ZI7xUEUsw",
        "outputId": "1e351e4a-511b-4652-c603-b60cfe78fc24"
      },
      "outputs": [
        {
          "name": "stdout",
          "output_type": "stream",
          "text": [
            "Requirement already satisfied: keras-tuner in c:\\users\\joaocravinhosantos\\anaconda3\\lib\\site-packages (1.1.3)\n",
            "Requirement already satisfied: ipython in c:\\users\\joaocravinhosantos\\anaconda3\\lib\\site-packages (from keras-tuner) (7.22.0)\n",
            "Requirement already satisfied: kt-legacy in c:\\users\\joaocravinhosantos\\anaconda3\\lib\\site-packages (from keras-tuner) (1.0.4)\n",
            "Requirement already satisfied: requests in c:\\users\\joaocravinhosantos\\anaconda3\\lib\\site-packages (from keras-tuner) (2.25.1)\n",
            "Requirement already satisfied: packaging in c:\\users\\joaocravinhosantos\\anaconda3\\lib\\site-packages (from keras-tuner) (23.0)\n",
            "Requirement already satisfied: numpy in c:\\users\\joaocravinhosantos\\anaconda3\\lib\\site-packages (from keras-tuner) (1.23.5)\n",
            "Requirement already satisfied: tensorboard in c:\\users\\joaocravinhosantos\\anaconda3\\lib\\site-packages (from keras-tuner) (2.11.0)\n",
            "Requirement already satisfied: prompt-toolkit!=3.0.0,!=3.0.1,<3.1.0,>=2.0.0 in c:\\users\\joaocravinhosantos\\anaconda3\\lib\\site-packages (from ipython->keras-tuner) (3.0.17)\n",
            "Requirement already satisfied: jedi>=0.16 in c:\\users\\joaocravinhosantos\\anaconda3\\lib\\site-packages (from ipython->keras-tuner) (0.17.2)\n",
            "Requirement already satisfied: pygments in c:\\users\\joaocravinhosantos\\anaconda3\\lib\\site-packages (from ipython->keras-tuner) (2.8.1)\n",
            "Requirement already satisfied: decorator in c:\\users\\joaocravinhosantos\\anaconda3\\lib\\site-packages (from ipython->keras-tuner) (5.0.6)\n",
            "Requirement already satisfied: pickleshare in c:\\users\\joaocravinhosantos\\anaconda3\\lib\\site-packages (from ipython->keras-tuner) (0.7.5)\n",
            "Requirement already satisfied: setuptools>=18.5 in c:\\users\\joaocravinhosantos\\anaconda3\\lib\\site-packages (from ipython->keras-tuner) (52.0.0.post20210125)\n",
            "Requirement already satisfied: backcall in c:\\users\\joaocravinhosantos\\anaconda3\\lib\\site-packages (from ipython->keras-tuner) (0.2.0)\n",
            "Requirement already satisfied: colorama in c:\\users\\joaocravinhosantos\\anaconda3\\lib\\site-packages (from ipython->keras-tuner) (0.4.4)\n",
            "Requirement already satisfied: traitlets>=4.2 in c:\\users\\joaocravinhosantos\\anaconda3\\lib\\site-packages (from ipython->keras-tuner) (5.0.5)\n",
            "Requirement already satisfied: urllib3<1.27,>=1.21.1 in c:\\users\\joaocravinhosantos\\anaconda3\\lib\\site-packages (from requests->keras-tuner) (1.26.4)\n",
            "Requirement already satisfied: certifi>=2017.4.17 in c:\\users\\joaocravinhosantos\\anaconda3\\lib\\site-packages (from requests->keras-tuner) (2020.12.5)\n",
            "Requirement already satisfied: chardet<5,>=3.0.2 in c:\\users\\joaocravinhosantos\\anaconda3\\lib\\site-packages (from requests->keras-tuner) (4.0.0)\n",
            "Requirement already satisfied: idna<3,>=2.5 in c:\\users\\joaocravinhosantos\\anaconda3\\lib\\site-packages (from requests->keras-tuner) (2.10)\n",
            "Requirement already satisfied: tensorboard-plugin-wit>=1.6.0 in c:\\users\\joaocravinhosantos\\anaconda3\\lib\\site-packages (from tensorboard->keras-tuner) (1.8.1)\n",
            "Requirement already satisfied: wheel>=0.26 in c:\\users\\joaocravinhosantos\\anaconda3\\lib\\site-packages (from tensorboard->keras-tuner) (0.36.2)\n",
            "Requirement already satisfied: werkzeug>=1.0.1 in c:\\users\\joaocravinhosantos\\anaconda3\\lib\\site-packages (from tensorboard->keras-tuner) (1.0.1)\n",
            "Requirement already satisfied: grpcio>=1.24.3 in c:\\users\\joaocravinhosantos\\anaconda3\\lib\\site-packages (from tensorboard->keras-tuner) (1.51.1)\n",
            "Requirement already satisfied: google-auth<3,>=1.6.3 in c:\\users\\joaocravinhosantos\\anaconda3\\lib\\site-packages (from tensorboard->keras-tuner) (2.16.0)\n",
            "Requirement already satisfied: absl-py>=0.4 in c:\\users\\joaocravinhosantos\\anaconda3\\lib\\site-packages (from tensorboard->keras-tuner) (1.3.0)\n",
            "Requirement already satisfied: tensorboard-data-server<0.7.0,>=0.6.0 in c:\\users\\joaocravinhosantos\\anaconda3\\lib\\site-packages (from tensorboard->keras-tuner) (0.6.1)\n",
            "Requirement already satisfied: google-auth-oauthlib<0.5,>=0.4.1 in c:\\users\\joaocravinhosantos\\anaconda3\\lib\\site-packages (from tensorboard->keras-tuner) (0.4.6)\n",
            "Requirement already satisfied: markdown>=2.6.8 in c:\\users\\joaocravinhosantos\\anaconda3\\lib\\site-packages (from tensorboard->keras-tuner) (3.4.1)\n",
            "Requirement already satisfied: protobuf<4,>=3.9.2 in c:\\users\\joaocravinhosantos\\anaconda3\\lib\\site-packages (from tensorboard->keras-tuner) (3.19.6)\n",
            "Requirement already satisfied: six>=1.9.0 in c:\\users\\joaocravinhosantos\\anaconda3\\lib\\site-packages (from google-auth<3,>=1.6.3->tensorboard->keras-tuner) (1.15.0)\n",
            "Requirement already satisfied: cachetools<6.0,>=2.0.0 in c:\\users\\joaocravinhosantos\\anaconda3\\lib\\site-packages (from google-auth<3,>=1.6.3->tensorboard->keras-tuner) (5.2.1)\n",
            "Requirement already satisfied: pyasn1-modules>=0.2.1 in c:\\users\\joaocravinhosantos\\anaconda3\\lib\\site-packages (from google-auth<3,>=1.6.3->tensorboard->keras-tuner) (0.2.8)\n",
            "Requirement already satisfied: rsa<5,>=3.1.4 in c:\\users\\joaocravinhosantos\\anaconda3\\lib\\site-packages (from google-auth<3,>=1.6.3->tensorboard->keras-tuner) (4.9)\n",
            "Requirement already satisfied: requests-oauthlib>=0.7.0 in c:\\users\\joaocravinhosantos\\anaconda3\\lib\\site-packages (from google-auth-oauthlib<0.5,>=0.4.1->tensorboard->keras-tuner) (1.3.1)\n",
            "Requirement already satisfied: parso<0.8.0,>=0.7.0 in c:\\users\\joaocravinhosantos\\anaconda3\\lib\\site-packages (from jedi>=0.16->ipython->keras-tuner) (0.7.0)\n",
            "Requirement already satisfied: importlib-metadata>=4.4 in c:\\users\\joaocravinhosantos\\anaconda3\\lib\\site-packages (from markdown>=2.6.8->tensorboard->keras-tuner) (6.0.0)\n",
            "Requirement already satisfied: wcwidth in c:\\users\\joaocravinhosantos\\anaconda3\\lib\\site-packages (from prompt-toolkit!=3.0.0,!=3.0.1,<3.1.0,>=2.0.0->ipython->keras-tuner) (0.2.5)\n",
            "Requirement already satisfied: ipython-genutils in c:\\users\\joaocravinhosantos\\anaconda3\\lib\\site-packages (from traitlets>=4.2->ipython->keras-tuner) (0.2.0)\n",
            "Requirement already satisfied: zipp>=0.5 in c:\\users\\joaocravinhosantos\\anaconda3\\lib\\site-packages (from importlib-metadata>=4.4->markdown>=2.6.8->tensorboard->keras-tuner) (3.4.1)\n",
            "Requirement already satisfied: pyasn1<0.5.0,>=0.4.6 in c:\\users\\joaocravinhosantos\\anaconda3\\lib\\site-packages (from pyasn1-modules>=0.2.1->google-auth<3,>=1.6.3->tensorboard->keras-tuner) (0.4.8)\n",
            "Requirement already satisfied: oauthlib>=3.0.0 in c:\\users\\joaocravinhosantos\\anaconda3\\lib\\site-packages (from requests-oauthlib>=0.7.0->google-auth-oauthlib<0.5,>=0.4.1->tensorboard->keras-tuner) (3.2.2)\n"
          ]
        }
      ],
      "source": [
        "!pip install keras-tuner"
      ]
    },
    {
      "cell_type": "code",
      "execution_count": 3,
      "metadata": {
        "id": "8ECKfWLUEUs1"
      },
      "outputs": [],
      "source": [
        "#!pip install --upgrade holidays"
      ]
    },
    {
      "attachments": {},
      "cell_type": "markdown",
      "metadata": {
        "id": "WfDvlFm0EUs8"
      },
      "source": [
        "# Imports"
      ]
    },
    {
      "cell_type": "markdown",
      "metadata": {
        "id": "SRYdytAzEUtA"
      },
      "source": [
        "### Libraries\n"
      ]
    },
    {
      "cell_type": "code",
      "execution_count": 5,
      "metadata": {
        "colab": {
          "base_uri": "https://localhost:8080/"
        },
        "id": "e8ca_oQ5EUtH",
        "outputId": "b0bfc77d-ba6b-482a-8f05-6bf278d68ad2"
      },
      "outputs": [
        {
          "name": "stderr",
          "output_type": "stream",
          "text": [
            "<ipython-input-5-b7808379a09d>:7: DeprecationWarning: `import kerastuner` is deprecated, please use `import keras_tuner`.\n",
            "  import kerastuner as kt\n"
          ]
        }
      ],
      "source": [
        "import sympy\n",
        "import pandas as pd\n",
        "import tensorflow as tf\n",
        "from keras.layers import LSTM, Dense, Dropout\n",
        "from keras.models import Sequential\n",
        "import numpy as np\n",
        "import kerastuner as kt\n",
        "from kerastuner.engine.hyperparameters import HyperParameters\n",
        "from datetime import datetime"
      ]
    },
    {
      "cell_type": "code",
      "execution_count": 6,
      "metadata": {
        "id": "pA2S_IWGEUtL"
      },
      "outputs": [],
      "source": [
        "import matplotlib.pyplot as plt\n",
        "#import holidays\n",
        "import seaborn as sns\n",
        "from keras.layers import LSTM, Bidirectional, Dense\n",
        "import keras\n",
        "from tensorflow.keras import callbacks, layers, losses, metrics, optimizers"
      ]
    },
    {
      "cell_type": "code",
      "execution_count": 6,
      "metadata": {
        "id": "37-j8VXD-ZKU",
        "outputId": "f1afbe98-b4af-4740-9380-597d76f1bbb7"
      },
      "outputs": [
        {
          "ename": "ModuleNotFoundError",
          "evalue": "No module named 'google.colab'",
          "output_type": "error",
          "traceback": [
            "\u001b[1;31m---------------------------------------------------------------------------\u001b[0m",
            "\u001b[1;31mModuleNotFoundError\u001b[0m                       Traceback (most recent call last)",
            "\u001b[1;32m<ipython-input-6-f045e1081d89>\u001b[0m in \u001b[0;36m<module>\u001b[1;34m\u001b[0m\n\u001b[1;32m----> 1\u001b[1;33m \u001b[1;32mfrom\u001b[0m \u001b[0mgoogle\u001b[0m\u001b[1;33m.\u001b[0m\u001b[0mcolab\u001b[0m \u001b[1;32mimport\u001b[0m \u001b[0mdrive\u001b[0m\u001b[1;33m\u001b[0m\u001b[1;33m\u001b[0m\u001b[0m\n\u001b[0m",
            "\u001b[1;31mModuleNotFoundError\u001b[0m: No module named 'google.colab'"
          ]
        }
      ],
      "source": [
        "#from google.colab import drive"
      ]
    },
    {
      "cell_type": "code",
      "execution_count": 7,
      "metadata": {
        "id": "Erou8uzWKbvc"
      },
      "outputs": [],
      "source": [
        "import tensorboard"
      ]
    },
    {
      "cell_type": "code",
      "execution_count": null,
      "metadata": {
        "colab": {
          "base_uri": "https://localhost:8080/"
        },
        "id": "LH4pe6iGEUtO",
        "outputId": "0753d9c2-a1a0-495f-9872-ec98d580bbc1"
      },
      "outputs": [
        {
          "name": "stdout",
          "output_type": "stream",
          "text": [
            "Drive already mounted at /content/drive; to attempt to forcibly remount, call drive.mount(\"/content/drive\", force_remount=True).\n"
          ]
        }
      ],
      "source": [
        "#ONLY WHEN WORKING IN COLAB\n",
        "# drive.mount(\"/content/drive\")"
      ]
    },
    {
      "cell_type": "code",
      "execution_count": null,
      "metadata": {
        "colab": {
          "base_uri": "https://localhost:8080/"
        },
        "id": "VOWs_A6WFmtf",
        "outputId": "d787a717-5e53-47a5-a270-93d1f7bed18e"
      },
      "outputs": [
        {
          "name": "stdout",
          "output_type": "stream",
          "text": [
            "/content/drive/MyDrive/NOVA IMS/IMS Deep Neural Networks/DLNN Project\n"
          ]
        }
      ],
      "source": [
        "# WHEN WORKING IN COLAB\n",
        "# cd '/content/drive/MyDrive/NOVA IMS/IMS Deep Neural Networks/DLNN Project'"
      ]
    },
    {
      "cell_type": "markdown",
      "metadata": {
        "id": "2K1U-aiqEUtQ"
      },
      "source": [
        "### Data"
      ]
    },
    {
      "cell_type": "code",
      "execution_count": null,
      "metadata": {
        "colab": {
          "base_uri": "https://localhost:8080/",
          "height": 378
        },
        "id": "viIY5kaREUtT",
        "outputId": "d770985a-9be9-40b8-9985-5b2f1867ecb6"
      },
      "outputs": [],
      "source": [
        "# Load the data - COLAB\n",
        "worksheet_EnergyConsumption = pd.read_csv('/content/drive/MyDrive/NOVA IMS/IMS Deep Neural Networks/DLNN Project/consumption.csv')\n",
        "worksheet_Weather = pd.read_csv('/content/drive/MyDrive/NOVA IMS/IMS Deep Neural Networks/DLNN Project/weather.csv')"
      ]
    },
    {
      "cell_type": "code",
      "execution_count": 8,
      "metadata": {
        "id": "VW1pFgfg-ZKW"
      },
      "outputs": [],
      "source": [
        "# Load the data\n",
        "worksheet_EnergyConsumption = pd.read_csv('consumption.csv')\n",
        "worksheet_Weather = pd.read_csv('weather.csv')"
      ]
    },
    {
      "cell_type": "code",
      "execution_count": 9,
      "metadata": {
        "id": "EcMFgIdpEUtW"
      },
      "outputs": [],
      "source": [
        "def missing_zero_values_table(df):\n",
        "        zero_val = (df == 0.00).astype(int).sum(axis=0)\n",
        "        mis_val = df.isnull().sum()\n",
        "        mis_val_percent = 100 * df.isnull().sum() / len(df)\n",
        "        mz_table = pd.concat([zero_val, mis_val, mis_val_percent], axis=1)\n",
        "        mz_table = mz_table.rename(\n",
        "        columns = {0 : 'Zero Values', 1 : 'Missing Values', 2 : '% of Total Values'})\n",
        "        mz_table['Total Zero Missing Values'] = mz_table['Zero Values'] + mz_table['Missing Values']\n",
        "        mz_table['% Total Zero Missing Values'] = 100 * mz_table['Total Zero Missing Values'] / len(df)\n",
        "        mz_table['Data Type'] = df.dtypes\n",
        "        mz_table = mz_table[\n",
        "            mz_table.iloc[:,1] != 0].sort_values(\n",
        "        '% of Total Values', ascending=False).round(1)\n",
        "        print (\"Your selected dataframe has \" + str(df.shape[1]) + \" columns and \" + str(df.shape[0]) + \" Rows.\\n\"      \n",
        "            \"There are \" + str(mz_table.shape[0]) +\n",
        "              \" columns that have missing values.\")\n",
        "#         mz_table.to_excel('D:/sampledata/missing_and_zero_values.xlsx', freeze_panes=(1,0), index = False)\n",
        "        return mz_table\n"
      ]
    },
    {
      "cell_type": "code",
      "execution_count": 10,
      "metadata": {
        "colab": {
          "base_uri": "https://localhost:8080/",
          "height": 274
        },
        "id": "E8_n0bVDEUtY",
        "outputId": "9da59b90-2752-4d1f-fa2d-a1607a92b0ea"
      },
      "outputs": [
        {
          "name": "stdout",
          "output_type": "stream",
          "text": [
            "Your selected dataframe has 8 columns and 43823 Rows.\n",
            "There are 6 columns that have missing values.\n"
          ]
        },
        {
          "data": {
            "text/html": [
              "<div>\n",
              "<style scoped>\n",
              "    .dataframe tbody tr th:only-of-type {\n",
              "        vertical-align: middle;\n",
              "    }\n",
              "\n",
              "    .dataframe tbody tr th {\n",
              "        vertical-align: top;\n",
              "    }\n",
              "\n",
              "    .dataframe thead th {\n",
              "        text-align: right;\n",
              "    }\n",
              "</style>\n",
              "<table border=\"1\" class=\"dataframe\">\n",
              "  <thead>\n",
              "    <tr style=\"text-align: right;\">\n",
              "      <th></th>\n",
              "      <th>Zero Values</th>\n",
              "      <th>Missing Values</th>\n",
              "      <th>% of Total Values</th>\n",
              "      <th>Total Zero Missing Values</th>\n",
              "      <th>% Total Zero Missing Values</th>\n",
              "      <th>Data Type</th>\n",
              "    </tr>\n",
              "  </thead>\n",
              "  <tbody>\n",
              "    <tr>\n",
              "      <th>PT_wind_generation_actual</th>\n",
              "      <td>0</td>\n",
              "      <td>43823</td>\n",
              "      <td>100.0</td>\n",
              "      <td>43823</td>\n",
              "      <td>100.0</td>\n",
              "      <td>float64</td>\n",
              "    </tr>\n",
              "    <tr>\n",
              "      <th>PT_wind_offshore_generation_actual</th>\n",
              "      <td>0</td>\n",
              "      <td>43823</td>\n",
              "      <td>100.0</td>\n",
              "      <td>43823</td>\n",
              "      <td>100.0</td>\n",
              "      <td>float64</td>\n",
              "    </tr>\n",
              "    <tr>\n",
              "      <th>PT_solar_generation_actual</th>\n",
              "      <td>20263</td>\n",
              "      <td>8</td>\n",
              "      <td>0.0</td>\n",
              "      <td>20271</td>\n",
              "      <td>46.3</td>\n",
              "      <td>float64</td>\n",
              "    </tr>\n",
              "    <tr>\n",
              "      <th>PT_load_actual_entsoe_transparency</th>\n",
              "      <td>0</td>\n",
              "      <td>1</td>\n",
              "      <td>0.0</td>\n",
              "      <td>1</td>\n",
              "      <td>0.0</td>\n",
              "      <td>float64</td>\n",
              "    </tr>\n",
              "    <tr>\n",
              "      <th>PT_load_forecast_entsoe_transparency</th>\n",
              "      <td>0</td>\n",
              "      <td>1</td>\n",
              "      <td>0.0</td>\n",
              "      <td>1</td>\n",
              "      <td>0.0</td>\n",
              "      <td>float64</td>\n",
              "    </tr>\n",
              "    <tr>\n",
              "      <th>PT_wind_onshore_generation_actual</th>\n",
              "      <td>0</td>\n",
              "      <td>1</td>\n",
              "      <td>0.0</td>\n",
              "      <td>1</td>\n",
              "      <td>0.0</td>\n",
              "      <td>float64</td>\n",
              "    </tr>\n",
              "  </tbody>\n",
              "</table>\n",
              "</div>"
            ],
            "text/plain": [
              "                                      Zero Values  Missing Values  \\\n",
              "PT_wind_generation_actual                       0           43823   \n",
              "PT_wind_offshore_generation_actual              0           43823   \n",
              "PT_solar_generation_actual                  20263               8   \n",
              "PT_load_actual_entsoe_transparency              0               1   \n",
              "PT_load_forecast_entsoe_transparency            0               1   \n",
              "PT_wind_onshore_generation_actual               0               1   \n",
              "\n",
              "                                      % of Total Values  \\\n",
              "PT_wind_generation_actual                         100.0   \n",
              "PT_wind_offshore_generation_actual                100.0   \n",
              "PT_solar_generation_actual                          0.0   \n",
              "PT_load_actual_entsoe_transparency                  0.0   \n",
              "PT_load_forecast_entsoe_transparency                0.0   \n",
              "PT_wind_onshore_generation_actual                   0.0   \n",
              "\n",
              "                                      Total Zero Missing Values  \\\n",
              "PT_wind_generation_actual                                 43823   \n",
              "PT_wind_offshore_generation_actual                        43823   \n",
              "PT_solar_generation_actual                                20271   \n",
              "PT_load_actual_entsoe_transparency                            1   \n",
              "PT_load_forecast_entsoe_transparency                          1   \n",
              "PT_wind_onshore_generation_actual                             1   \n",
              "\n",
              "                                      % Total Zero Missing Values Data Type  \n",
              "PT_wind_generation_actual                                   100.0   float64  \n",
              "PT_wind_offshore_generation_actual                          100.0   float64  \n",
              "PT_solar_generation_actual                                   46.3   float64  \n",
              "PT_load_actual_entsoe_transparency                            0.0   float64  \n",
              "PT_load_forecast_entsoe_transparency                          0.0   float64  \n",
              "PT_wind_onshore_generation_actual                             0.0   float64  "
            ]
          },
          "execution_count": 10,
          "metadata": {},
          "output_type": "execute_result"
        }
      ],
      "source": [
        "missing_zero_values_table(worksheet_EnergyConsumption)"
      ]
    },
    {
      "cell_type": "code",
      "execution_count": 11,
      "metadata": {
        "colab": {
          "base_uri": "https://localhost:8080/",
          "height": 86
        },
        "id": "0jaeSKG9EUtb",
        "outputId": "d965de68-8eb7-4e78-a202-6b436fe3b815"
      },
      "outputs": [
        {
          "name": "stdout",
          "output_type": "stream",
          "text": [
            "Your selected dataframe has 4 columns and 43823 Rows.\n",
            "There are 0 columns that have missing values.\n"
          ]
        },
        {
          "data": {
            "text/html": [
              "<div>\n",
              "<style scoped>\n",
              "    .dataframe tbody tr th:only-of-type {\n",
              "        vertical-align: middle;\n",
              "    }\n",
              "\n",
              "    .dataframe tbody tr th {\n",
              "        vertical-align: top;\n",
              "    }\n",
              "\n",
              "    .dataframe thead th {\n",
              "        text-align: right;\n",
              "    }\n",
              "</style>\n",
              "<table border=\"1\" class=\"dataframe\">\n",
              "  <thead>\n",
              "    <tr style=\"text-align: right;\">\n",
              "      <th></th>\n",
              "      <th>Zero Values</th>\n",
              "      <th>Missing Values</th>\n",
              "      <th>% of Total Values</th>\n",
              "      <th>Total Zero Missing Values</th>\n",
              "      <th>% Total Zero Missing Values</th>\n",
              "      <th>Data Type</th>\n",
              "    </tr>\n",
              "  </thead>\n",
              "  <tbody>\n",
              "  </tbody>\n",
              "</table>\n",
              "</div>"
            ],
            "text/plain": [
              "Empty DataFrame\n",
              "Columns: [Zero Values, Missing Values, % of Total Values, Total Zero Missing Values, % Total Zero Missing Values, Data Type]\n",
              "Index: []"
            ]
          },
          "execution_count": 11,
          "metadata": {},
          "output_type": "execute_result"
        }
      ],
      "source": [
        "missing_zero_values_table(worksheet_Weather)"
      ]
    },
    {
      "cell_type": "code",
      "execution_count": 12,
      "metadata": {
        "id": "6coicgaDEUte"
      },
      "outputs": [],
      "source": [
        "# Transform timestamp datatype\n",
        "worksheet_EnergyConsumption[\"utc_timestamp\"] = pd.to_datetime(worksheet_EnergyConsumption[\"utc_timestamp\"])\n",
        "worksheet_Weather[\"utc_timestamp\"] = pd.to_datetime(worksheet_Weather[\"utc_timestamp\"])\n",
        "\n",
        "# As seguintes colunas estão todas NaN, não são uteis. The remaining columns are removed since they aren't usefull.\n",
        "worksheet_EnergyConsumption.drop([\n",
        "    \"cet_cest_timestamp\",\n",
        "    \"PT_wind_generation_actual\",\n",
        "    \"PT_wind_offshore_generation_actual\",\n",
        "    \"PT_wind_onshore_generation_actual\",\n",
        "    \"PT_solar_generation_actual\",\n",
        "    \"PT_load_forecast_entsoe_transparency\"\n",
        "], axis=1, inplace=True)\n",
        "\n",
        "# Bfill \n",
        "#worksheet_EnergyConsumption[\"PT_load_forecast_entsoe_transparency\"] = worksheet_EnergyConsumption[\"PT_load_forecast_entsoe_transparency\"].bfill()\n",
        "worksheet_EnergyConsumption[\"PT_load_actual_entsoe_transparency\"] = worksheet_EnergyConsumption[\"PT_load_actual_entsoe_transparency\"].bfill()\n"
      ]
    },
    {
      "cell_type": "code",
      "execution_count": null,
      "metadata": {
        "id": "TqKR7rUlEUti"
      },
      "outputs": [],
      "source": [
        "#pt_holidays=holidays.country_holidays('PT')\n",
        "\n",
        "#worksheet_EnergyConsumption['isHoliday']=pd.Series(worksheet_EnergyConsumption.index).apply(lambda x: holidays.country_holidays('PT').get(x)).values.astype('bool').astype('int')"
      ]
    },
    {
      "cell_type": "code",
      "execution_count": 13,
      "metadata": {
        "id": "Y3icpq8PEUtm"
      },
      "outputs": [],
      "source": [
        "df=pd.merge(worksheet_EnergyConsumption, worksheet_Weather, on=\"utc_timestamp\")"
      ]
    },
    {
      "cell_type": "code",
      "execution_count": 14,
      "metadata": {
        "id": "aBq_piPcEUto"
      },
      "outputs": [],
      "source": [
        "# Timestamps are very usefull as inputs for modelling purposes, especially when using time series.\n",
        "# If there is peridiocity within the physical phenomena which generates the feature we're measuring, then to use the \"timestamp\" we must transform the data into a \"readable format\" for the model, not this string-like form.\n",
        "# Therefore, we can transform this timeperiod into a \"signal\" - the sine and cosine transforms. This signal, represented by sin and cosin waves will \"emulate\" the \"time of the day\" and \"of the year\" as usable signals/data.\n",
        "# Being weather and energy consumption data, it has clear daily and yearly periodicity. There are many ways you could deal with periodicity.\n",
        "date_time=worksheet_EnergyConsumption[\"utc_timestamp\"].copy()\n",
        "timestamp_s=date_time.map(pd.Timestamp.timestamp)\n",
        "day = 24*60*60\n",
        "year = (365.2425)*day\n",
        "\n",
        "df['Day sin'] = np.sin(timestamp_s * (2 * np.pi / day))\n",
        "df['Day cos'] = np.cos(timestamp_s * (2 * np.pi / day))\n",
        "df['Year sin'] = np.sin(timestamp_s * (2 * np.pi / year))\n",
        "df['Year cos'] = np.cos(timestamp_s * (2 * np.pi / year))\n"
      ]
    },
    {
      "cell_type": "code",
      "execution_count": 15,
      "metadata": {
        "colab": {
          "base_uri": "https://localhost:8080/",
          "height": 1000
        },
        "id": "QAl15TMbEUtp",
        "outputId": "b0a8c9b4-6427-49dc-9a16-3ce18a7228a9"
      },
      "outputs": [
        {
          "data": {
            "image/png": "[encoded data removed]",
            "text/plain": [
              "<Figure size 432x288 with 1 Axes>"
            ]
          },
          "metadata": {
            "needs_background": "light"
          },
          "output_type": "display_data"
        },
        {
          "data": {
            "image/png": "[encoded data removed]",
            "text/plain": [
              "<Figure size 432x288 with 1 Axes>"
            ]
          },
          "metadata": {
            "needs_background": "light"
          },
          "output_type": "display_data"
        },
        {
          "data": {
            "image/png": "[encoded data removed]",
            "text/plain": [
              "<Figure size 432x288 with 1 Axes>"
            ]
          },
          "metadata": {
            "needs_background": "light"
          },
          "output_type": "display_data"
        },
        {
          "data": {
            "image/png": "[encoded data removed]",
            "text/plain": [
              "<Figure size 432x288 with 1 Axes>"
            ]
          },
          "metadata": {
            "needs_background": "light"
          },
          "output_type": "display_data"
        }
      ],
      "source": [
        "# para confirmar a periocidade diária e anual através da FFT: (Transformada de Fourier - explicar um pouco o que é?)\n",
        "# COMMENT: After a carefull look at the results we can clearly observe and confirm our assumptions: \n",
        "# both yearly and daily periodiocity exist. However, a intra-daily peridiocity also is highlighted in the graphs,\n",
        "# especially in the features which concern radiation. This intra-day is explained by the \"solar cycle\", the time of the day.  \n",
        "def plot_fft(df):\n",
        "    columns=df.columns\n",
        "    for col in columns:\n",
        "        values=df[col].values\n",
        "        fft=np.fft.fft(values)\n",
        "        fft = tf.signal.rfft(df[col])\n",
        "        f_per_dataset = np.arange(0, len(fft))\n",
        "\n",
        "        n_samples_h = len(df[col])\n",
        "        hours_per_year = 24*365.2524\n",
        "        years_per_dataset = n_samples_h/(hours_per_year)\n",
        "\n",
        "        f_per_year = f_per_dataset/years_per_dataset\n",
        "        plt.figure()\n",
        "        plt.step(f_per_year, np.abs(fft))\n",
        "        plt.xscale('log')\n",
        "        \n",
        "        plt.xlim([0.1, max(plt.xlim())])\n",
        "        plt.xticks([1, 365.2524], labels=['1/Year', '1/day'])\n",
        "        _ = plt.xlabel('Frequency (log scale)')\n",
        "        plt.title(col)\n",
        "\n",
        "    plt.show()\n",
        "df_copy=df.loc[:,[\"PT_load_actual_entsoe_transparency\",\"PT_temperature\",\"PT_radiation_direct_horizontal\",\"PT_radiation_diffuse_horizontal\"]]\n",
        "plot_fft(df_copy)"
      ]
    },
    {
      "cell_type": "code",
      "execution_count": 16,
      "metadata": {
        "colab": {
          "base_uri": "https://localhost:8080/",
          "height": 172
        },
        "id": "Go1rZhYVEUtr",
        "outputId": "236f23f8-ba88-4a2d-82a0-d2b831cb3536"
      },
      "outputs": [],
      "source": [
        "df=df.set_index('utc_timestamp')"
      ]
    },
    {
      "cell_type": "code",
      "execution_count": 17,
      "metadata": {
        "colab": {
          "base_uri": "https://localhost:8080/",
          "height": 172
        },
        "id": "LruDjv1VEUtt",
        "outputId": "fb0a260f-19b5-42bd-9a0f-4922c13a9382"
      },
      "outputs": [],
      "source": [
        "num_features=len(df.columns)"
      ]
    },
    {
      "cell_type": "code",
      "execution_count": 18,
      "metadata": {
        "id": "HLsTf5d4EUtv"
      },
      "outputs": [],
      "source": [
        "# Splitting the data -\n",
        "# slicing the data for\n",
        "# - Training : [2015-2017]\n",
        "# - Test: [2018]\n",
        "# - Validation [2019]\n",
        "# COMMENTS: \n",
        "# Em timeseries forecasting pode-se fazer é testar os modelos com splits diferentes, para fazer cross validation dos datasets utilizados. Caso contrário podemos cair no erro de seleccionar o melhor modelo, randomly, para o split que fizemos apenas.\n",
        "\n",
        "df_train=df.loc['2015':'2017'].copy()\n",
        "df_test=df.loc['2018'].copy()\n",
        "df_validation=df.loc['2019'].copy()\n"
      ]
    },
    {
      "cell_type": "code",
      "execution_count": 19,
      "metadata": {
        "id": "U-OwqefqEUtw"
      },
      "outputs": [],
      "source": [
        "# Normalize the data\n",
        "# The normalization should not consider the time-series/features within the test and validation sets. \n",
        "# Hence, \"the mean and standard deviation should only be computed using the training data \n",
        "# so that the models have no access to the values in the validation and test sets.\"\n",
        "# ref- https://www.tensorflow.org/tutorials/structured_data/time_series\n",
        "train_mean = df_train.mean()\n",
        "train_std = df_train.std()\n",
        "\n",
        "train_df = (df_train - train_mean) / train_std\n",
        "val_df = (df_validation - train_mean) / train_std\n",
        "test_df = (df_test - train_mean) / train_std"
      ]
    },
    {
      "cell_type": "code",
      "execution_count": 20,
      "metadata": {
        "colab": {
          "base_uri": "https://localhost:8080/",
          "height": 453
        },
        "id": "UcI_OXQHEUt0",
        "outputId": "c79745f0-30fe-4e72-f28c-b2ab88db7d35"
      },
      "outputs": [
        {
          "data": {
            "image/png": "[encoded data removed]",
            "text/plain": [
              "<Figure size 432x288 with 1 Axes>"
            ]
          },
          "metadata": {
            "needs_background": "light"
          },
          "output_type": "display_data"
        }
      ],
      "source": [
        "df_std = (df - train_mean) / train_std\n",
        "df_std = df_std.melt(var_name='Column', value_name='Normalized')\n",
        "plt.figure()\n",
        "ax = sns.violinplot(x='Column', y='Normalized', data=df_std)\n",
        "_ = ax.set_xticklabels(df.keys(), rotation=90)\n"
      ]
    },
    {
      "cell_type": "code",
      "execution_count": 21,
      "metadata": {
        "colab": {
          "base_uri": "https://localhost:8080/"
        },
        "id": "qAuwfmSIzUEQ",
        "outputId": "86b647a5-9127-4bbf-eb8a-7581484dfd1e"
      },
      "outputs": [
        {
          "name": "stdout",
          "output_type": "stream",
          "text": [
            "Test statistic for PT_load_actual_entsoe_transparency: -36.94266054303029\n",
            "p-value for PT_load_actual_entsoe_transparency: 0.0\n",
            "PT_load_actual_entsoe_transparency is stationary\n",
            "Test statistic for PT_temperature: -11.172919029580614\n",
            "p-value for PT_temperature: 1.053753905959088e-17\n",
            "PT_temperature is stationary\n",
            "Test statistic for PT_radiation_direct_horizontal: -15.297012784064963\n",
            "p-value for PT_radiation_direct_horizontal: 1.624122395315207e-22\n",
            "PT_radiation_direct_horizontal is stationary\n",
            "Test statistic for PT_radiation_diffuse_horizontal: -25.529585616327775\n",
            "p-value for PT_radiation_diffuse_horizontal: 0.0\n",
            "PT_radiation_diffuse_horizontal is stationary\n",
            "Test statistic for Day sin: -965808331162.938\n",
            "p-value for Day sin: 0.0\n",
            "Day sin is stationary\n",
            "Test statistic for Day cos: -966407399455.8865\n",
            "p-value for Day cos: 0.0\n",
            "Day cos is stationary\n",
            "Test statistic for Year sin: -5570230543.125141\n",
            "p-value for Year sin: 0.0\n",
            "Year sin is stationary\n",
            "Test statistic for Year cos: -9606943372.231012\n",
            "p-value for Year cos: 0.0\n",
            "Year cos is stationary\n"
          ]
        }
      ],
      "source": [
        "from statsmodels.tsa.stattools import adfuller\n",
        "\n",
        "for col in df.columns:\n",
        "  # Perform the ADF test on the column\n",
        "    result = adfuller(df[col],24,regression='ct',autolag='t-stat',regresults=True)\n",
        "    # Print the test statistic and p-value\n",
        "    print(f\"Test statistic for {col}: {result[0]}\")\n",
        "    print(f\"p-value for {col}: {result[1]}\")\n",
        "\n",
        "    # Interpret the results\n",
        "    if result[1] < 0.05:\n",
        "        print(f\"{col} is stationary\")\n",
        "    else:\n",
        "        print(f\"{col} is non-stationary\")\n",
        "# Perform the ADF test on the time series\n",
        "#result = adfuller(df['PT_load_actual_entsoe_transparency'])\n",
        "#result = adfuller(df['PT_temperature'])\n",
        "\n",
        "# Print the test statistic and the p-value\n",
        "# print(f\"Test statistic: {result[0]}\")\n",
        "# print(f\"p-value: {result[1]}\")\n",
        "\n",
        "# # Interpret the results\n",
        "# if result[1] < 0.05:\n",
        "#     print(\"The time series is stationary\")\n",
        "# else:\n",
        "#     print(\"The time series is non-stationary\")"
      ]
    },
    {
      "attachments": {},
      "cell_type": "markdown",
      "metadata": {
        "id": "GLgMbYtEEUt3"
      },
      "source": [
        "# Data Exploration"
      ]
    },
    {
      "cell_type": "code",
      "execution_count": 23,
      "metadata": {
        "id": "U_EVc7hXEUt4"
      },
      "outputs": [
        {
          "data": {
            "image/png": "[encoded data removed]",
            "text/plain": [
              "<Figure size 432x288 with 4 Axes>"
            ]
          },
          "execution_count": 23,
          "metadata": {},
          "output_type": "execute_result"
        },
        {
          "data": {
            "image/png": "[encoded data removed]",
            "text/plain": [
              "<Figure size 432x288 with 4 Axes>"
            ]
          },
          "metadata": {
            "needs_background": "light"
          },
          "output_type": "display_data"
        }
      ],
      "source": [
        "# - Seasonal\n",
        "\n",
        "# refs & exemplos - https://neptune.ai/blog/select-model-for-time-series-prediction-task\n",
        "\n",
        "from statsmodels.tsa.seasonal import seasonal_decompose\n",
        "result = seasonal_decompose(df['PT_load_actual_entsoe_transparency'])\n",
        "result.plot()"
      ]
    },
    {
      "cell_type": "code",
      "execution_count": 22,
      "metadata": {},
      "outputs": [],
      "source": [
        "from statsmodels.graphics.tsaplots import plot_acf\n",
        "from statsmodels.graphics.tsaplots import plot_pacf\n",
        "import statsmodels.api as sm"
      ]
    },
    {
      "cell_type": "code",
      "execution_count": null,
      "metadata": {},
      "outputs": [],
      "source": [
        "# THIS ONLY WORKS WITH MOST RECENT VERSION\n",
        "#from statsmodels.tsa.seasonal import MSTL\n",
        "\n",
        "from statsmodels.tsa.seasonal import DecomposeResult\n",
        "#extracting daily seasonality from raw time series\n",
        "sd_24 = sm.tsa.seasonal_decompose(df['PT_load_actual_entsoe_transparency'], period=24)\n"
      ]
    },
    {
      "cell_type": "code",
      "execution_count": null,
      "metadata": {},
      "outputs": [],
      "source": [
        "#extracting weekly seasonality from time series adjusted by daily seasonality\n",
        "sd_168 = sm.tsa.seasonal_decompose(df['PT_load_actual_entsoe_transparency'] - np.array(sd_24.seasonal).reshape(-1,1), period=168)"
      ]
    },
    {
      "cell_type": "code",
      "execution_count": null,
      "metadata": {},
      "outputs": [],
      "source": [
        "#extracting yearly seasonality from time series adjusted by daily and weekly seasonality\n",
        "sd_8766 = sm.tsa.seasonal_decompose(df['PT_load_actual_entsoe_transparency'] - np.array(sd_168.seasonal).reshape(-1,1), period=8760)"
      ]
    },
    {
      "cell_type": "code",
      "execution_count": null,
      "metadata": {},
      "outputs": [],
      "source": [
        "#setting label for each y axis\n",
        "#drawing figure with subplots, predefined size and resolution\n",
        "f, axes = plt.subplots(5,1,figsize=(18,24),dpi=200)\n",
        "\n",
        "#setting figure title and adjusting title position and size\n",
        "plt.suptitle('Summary of seasonal decomposition', y=0.92, fontsize=24)\n",
        "\n",
        "#plotting trend component\n",
        "axes[0].plot(sd_8766.trend)\n",
        "axes[0].set_title('Trend component', fontdict={'fontsize': 18})\n",
        "\n",
        "axes[1].plot(sd_24.seasonal[:1000])\n",
        "axes[1].set_title('Daily seasonal component', fontdict={'fontsize': 18})\n",
        "#plotting weekly seasonal component\n",
        "axes[2].plot(sd_168.seasonal[5000:6000])\n",
        "axes[2].set_title('Weekly seasonal component', fontdict={'fontsize': 18})\n",
        "#plotting yearly seasonality\n",
        "axes[3].plot(sd_8766.seasonal[-30000:])\n",
        "axes[3].set_title('Yearly seasonal component', fontdict={'fontsize': 18})\n",
        "#plotting residual of decomposition\n",
        "axes[4].plot(sd_8766.resid);\n",
        "axes[4].set_title('Residual component', fontdict={'fontsize': 18});\n",
        "\n",
        "for a in axes:\n",
        "    a.set_ylabel('MW')\n",
        "    \n",
        "plt.show()"
      ]
    },
    {
      "cell_type": "code",
      "execution_count": null,
      "metadata": {
        "id": "GmaOKgup-ZKa"
      },
      "outputs": [],
      "source": [
        "# Autocorrelation function (acf) & Partial Autocorrelation function (PACF)"
      ]
    },
    {
      "cell_type": "code",
      "execution_count": null,
      "metadata": {
        "id": "ED8ws7TjEUt6"
      },
      "outputs": [],
      "source": [
        "# # Necessitamos de ver se os dados são, ou não, estacionários.\n",
        "# \"it is highly necessary to check if the data is stationary. In time series forecasting, we cannot derive valuable insights from data if it is stationary.\"\n",
        "# https://www.geeksforgeeks.org/how-to-check-if-time-series-data-is-stationary-with-python/\n",
        "# https://machinelearningmastery.com/time-series-data-stationary-python/"
      ]
    },
    {
      "attachments": {},
      "cell_type": "markdown",
      "metadata": {
        "id": "0yugIPy9EUt7"
      },
      "source": [
        "# Modelling"
      ]
    },
    {
      "cell_type": "markdown",
      "metadata": {
        "id": "ikUqLUoXEUt8"
      },
      "source": [
        "Metrics to use:\n",
        "- RMSE\n",
        "- MSE\n",
        "- MAE\n",
        "- MAPE\n",
        "- r2 (?)\n",
        "        \n",
        "ref- https://analyticsindiamag.com/a-guide-to-different-evaluation-metrics-for-time-series-forecasting-models/"
      ]
    },
    {
      "cell_type": "code",
      "execution_count": 24,
      "metadata": {
        "id": "K32yBBslEUt-"
      },
      "outputs": [],
      "source": [
        "# Set the input_sequence_length length - this is the \"window\" timeframe used to make a single prediction\n",
        "input_sequence_length = 24\n",
        "# The output sequence length is the number of steps that the neural network predicts\n",
        "output_sequence_length = 24\n",
        "\n",
        "# Index for the forecasted variable - energy consumption\n",
        "index_target = df_train.columns.get_loc(\"PT_load_actual_entsoe_transparency\")\n"
      ]
    },
    {
      "cell_type": "code",
      "execution_count": 25,
      "metadata": {
        "id": "F22ZFiC5EUuA"
      },
      "outputs": [],
      "source": [
        "def partition_dataset(input_sequence_length, output_sequence_length, data):\n",
        "    x, y = [], []\n",
        "    data_len = data.shape[0]\n",
        "    for i in range(input_sequence_length, data_len - output_sequence_length):\n",
        "        x.append(data.iloc[i-input_sequence_length:i,:])\n",
        "        y.append(data.iloc[i:i + output_sequence_length, index_target]) \n",
        "    \n",
        "    # Convert the x and y to numpy arrays\n",
        "    x = np.array(x).astype(float)\n",
        "    y = np.array(y).astype(float)\n",
        "    return x, y\n"
      ]
    },
    {
      "cell_type": "code",
      "execution_count": 26,
      "metadata": {
        "id": "HPr_Wln4EUuC"
      },
      "outputs": [],
      "source": [
        "x_train, y_train = partition_dataset(input_sequence_length, output_sequence_length, train_df)\n",
        "x_test, y_test = partition_dataset(input_sequence_length, output_sequence_length, test_df)\n",
        "x_validation,y_validation= partition_dataset(input_sequence_length, output_sequence_length, val_df)"
      ]
    },
    {
      "cell_type": "code",
      "execution_count": 27,
      "metadata": {
        "id": "dZ-yBeQC_Ee1"
      },
      "outputs": [],
      "source": [
        "x_train_viz, y_train_viz = partition_dataset(input_sequence_length, output_sequence_length, df_train)\n",
        "x_test_viz, y_test_viz = partition_dataset(input_sequence_length, output_sequence_length, df_test)\n",
        "x_validation_viz,y_validation_viz= partition_dataset(input_sequence_length, output_sequence_length, df_validation)"
      ]
    },
    {
      "cell_type": "code",
      "execution_count": 32,
      "metadata": {
        "id": "oBfKP_tqEUuF"
      },
      "outputs": [],
      "source": [
        "# def sliding_window(data, window_size, forecast_horizon):\n",
        "#     # Initialize a list to store the input and output sequences\n",
        "#     input_sequences = []\n",
        "#     output_sequences = []\n",
        "\n",
        "#     # Iterate over the data and create the input and output sequences\n",
        "#     for i in range(len(data) - window_size - forecast_horizon + 1):\n",
        "#         input_sequences.append(data[i:i + window_size])\n",
        "#         output_sequences.append(data[i + window_size:i + window_size + forecast_horizon])\n",
        "\n",
        "#     return input_sequences, output_sequences"
      ]
    },
    {
      "cell_type": "code",
      "execution_count": 33,
      "metadata": {
        "id": "VoLBhIb4EUuJ"
      },
      "outputs": [],
      "source": [
        "# # Set the window size to 24 and the forecast horizon to 24\n",
        "# window_size = 24\n",
        "# forecast_horizon = 24\n",
        "# # Create the input and output sequences using the sliding window function\n",
        "# train_input_sequences, train_output_sequences = sliding_window(df_train, window_size, forecast_horizon)"
      ]
    },
    {
      "cell_type": "markdown",
      "metadata": {
        "id": "dLqb7T6ZEUuM"
      },
      "source": [
        "### Baseline\n",
        "        Persistence"
      ]
    },
    {
      "cell_type": "markdown",
      "metadata": {
        "id": "Wqz57grJEUuO"
      },
      "source": [
        "A persistência é o método de baseline mais condiserado e que, como o nome indica, considera que o valor para o futuro é igual à ultima observação. Pode ser denotado pela seguinte equação:\n",
        "\n",
        "$ T_{t+1} = T_{t} $ "
      ]
    },
    {
      "cell_type": "code",
      "execution_count": 28,
      "metadata": {
        "id": "HLP6WimOEUuP"
      },
      "outputs": [],
      "source": [
        "# Baseline model - persistence/naive forecast (of last observation):\n",
        "y_pred_persistence=np.zeros((y_train.shape),dtype=float)\n",
        "y_pred_viz=y_pred_persistence.copy()\n",
        "\n",
        "for i in range(len(y_pred_persistence)):\n",
        "    y_pred_persistence[i,:]=x_train[i,-1][0]\n",
        "    y_pred_viz[i,:]=x_train_viz[i,-1][0]\n",
        "#aux. variable for plot\n",
        "x_copy=np.zeros((y_train.shape),dtype=float)\n",
        "x_copy_viz=x_copy.copy()\n",
        "for r in range(x_train.shape[0]):\n",
        "    for c in range((x_train.shape[1])):\n",
        "        x_copy[r,c]=x_train[r,c,0]\n",
        "        x_copy_viz[r,c]=x_train_viz[r,c,0]\n",
        "        "
      ]
    },
    {
      "cell_type": "code",
      "execution_count": 29,
      "metadata": {
        "id": "_MXCB9zvEUuR"
      },
      "outputs": [],
      "source": [
        "# x-axis aux. vectors\n",
        "x_input=np.arange(0,24)\n",
        "x_ahead=np.arange(24,48)\n",
        "xlabel='Energy Demand (MW)'"
      ]
    },
    {
      "cell_type": "code",
      "execution_count": 30,
      "metadata": {
        "id": "J8QVL3-pEUuS",
        "outputId": "a93bfabf-7076-4d63-ba37-636e679e183b"
      },
      "outputs": [
        {
          "data": {
            "text/plain": [
              "<matplotlib.legend.Legend at 0x21417480f70>"
            ]
          },
          "execution_count": 30,
          "metadata": {},
          "output_type": "execute_result"
        },
        {
          "data": {
            "image/png": "[encoded data removed]",
            "text/plain": [
              "<Figure size 432x288 with 1 Axes>"
            ]
          },
          "metadata": {
            "needs_background": "light"
          },
          "output_type": "display_data"
        }
      ],
      "source": [
        "plt.figure()\n",
        "plt.plot()\n",
        "plt.plot(x_input,x_copy_viz[0],color='blue', label='Inputs',marker='o')\n",
        "plt.plot(x_ahead,y_pred_viz[0], color='red', label = 'Persistence Predictions (Y_forecast)')\n",
        "plt.plot(x_ahead,y_train_viz[0],color='black',label='Labels (Y_true)',linestyle='dashed')\n",
        "plt.ylabel(xlabel)\n",
        "plt.xlabel('Hours (h)')\n",
        "plt.legend()"
      ]
    },
    {
      "cell_type": "code",
      "execution_count": 31,
      "metadata": {
        "id": "2l-zHrRlEUuU"
      },
      "outputs": [],
      "source": [
        "from sklearn.metrics import mean_squared_error\n",
        "from sklearn.metrics import mean_absolute_percentage_error\n",
        "from sklearn.metrics import mean_absolute_error\n",
        "\n",
        "\n",
        "\n",
        "MSE_Persistence=mean_squared_error(y_true=y_train,y_pred=y_pred_persistence)\n",
        "RMSE_Persistence=mean_squared_error(y_true=y_train,y_pred=y_pred_persistence,squared=True)\n",
        "MAPE_Persistence=mean_absolute_percentage_error(y_true=y_train,y_pred=y_pred_persistence)\n",
        "MAE_Persistence=mean_absolute_error(y_true=y_train,y_pred=y_pred_persistence)"
      ]
    },
    {
      "cell_type": "markdown",
      "metadata": {
        "id": "lwE-d31JEUuY"
      },
      "source": [
        "### Simple RNN"
      ]
    },
    {
      "cell_type": "code",
      "execution_count": 45,
      "metadata": {
        "colab": {
          "base_uri": "https://localhost:8080/",
          "height": 450
        },
        "id": "3943h0OKEUuZ",
        "outputId": "64a32ad1-6f9d-4d15-f097-0b2835374aa3"
      },
      "outputs": [
        {
          "name": "stdout",
          "output_type": "stream",
          "text": [
            "Model: \"sequential_1\"\n",
            "_________________________________________________________________\n",
            " Layer (type)                Output Shape              Param #   \n",
            "=================================================================\n",
            " simple_rnn_1 (SimpleRNN)    (None, 32)                1312      \n",
            "                                                                 \n",
            " dropout_1 (Dropout)         (None, 32)                0         \n",
            "                                                                 \n",
            " dense_1 (Dense)             (None, 24)                792       \n",
            "                                                                 \n",
            "=================================================================\n",
            "Total params: 2,104\n",
            "Trainable params: 2,104\n",
            "Non-trainable params: 0\n",
            "_________________________________________________________________\n"
          ]
        }
      ],
      "source": [
        "# Create a TensorBoard callback\n",
        "import os\n",
        "\n",
        "working_dir=os.getcwd()\n",
        "calllbacks=[\n",
        "    keras.callbacks.TensorBoard(log_dir = 'logsSimpleRNN_v3'),\n",
        "    tf.keras.callbacks.EarlyStopping(monitor=\"mse\",patience= 2,mode=\"auto\")]\n",
        "# Define the model\n",
        "\n",
        "def build_model(hp):\n",
        "  model = keras.Sequential()\n",
        "  model.add(keras.layers.SimpleRNN(units=hp.Int('units', min_value=32, max_value=256, step=32),\n",
        "                                   input_shape=(None, num_features)))\n",
        "  batch_size=hp.Int('batch_size', min_value=32, max_value=256, step=32)\n",
        "  model.add(Dropout(hp.Float('dropout', min_value=0.0, max_value=0.5, step=0.1)))\n",
        "\n",
        "  learning_rate = hp.Choice('learning_rate', values=[1e-2, 1e-3, 1e-4])\n",
        "  model.add(keras.layers.Dense(units=24))\n",
        "  model.compile(optimizer=hp.Choice('optimizer', values=['adam', 'sgd']),\n",
        "                loss='mse',\n",
        "                metrics=['mse','mae', 'mape'])\n",
        "                \n",
        "  model.summary()\n",
        "  return model\n",
        "\n",
        "# Create a tuner\n",
        "tuner = kt.Hyperband(build_model,\n",
        "                     objective='mse',\n",
        "                     max_epochs=20,\n",
        "                     factor=3,seed=3,\n",
        "                     hyperband_iterations=1,\n",
        "                     overwrite=True)\n"
      ]
    },
    {
      "cell_type": "code",
      "execution_count": 39,
      "metadata": {
        "id": "Q9xvQblw-ZKf"
      },
      "outputs": [],
      "source": [
        "# # Define the hyperparameters\n",
        "# units = Hyperparameter(name='units', min_value=32, max_value=256, step=32, default=64)\n",
        "# batch_size = Hyperparameter(name='batch_size', min_value=32, max_value=256, step=32, default=64)\n",
        "# learning_rate = Hyperparameter(name='learning_rate', values=[1e-2, 1e-3, 1e-4], default=1e-3)\n",
        "# optimizer = Hyperparameter(name='optimizer', values=[Adam, SGD], default=Adam)\n",
        "\n",
        "# def build_model(hp):\n",
        "#   model = keras.Sequential()\n",
        "#   model.add(keras.layers.SimpleRNN(units=hp.Int('units', min_value=32, max_value=256, step=32),\n",
        "#                                    input_shape=(None, num_features)))\n",
        "#   batch_size = hp.Int('batch_size', min_value=32, max_value=256, step=32)\n",
        "\n",
        "#   model.add(keras.layers.Dense(units=24))\n",
        "#   optimizer = hp.Choice('optimizer', values=['adam', 'sgd'])\n",
        "#   model.compile(optimizer=optimizer,\n",
        "#                 loss='mse',\n",
        "#                 metrics=['mse','mae', 'mape'])\n",
        "                \n",
        "#   model.summary()\n",
        "#   return model"
      ]
    },
    {
      "cell_type": "code",
      "execution_count": 46,
      "metadata": {
        "id": "aVRwmpnT-ZKf",
        "outputId": "93ed7a81-c77b-4103-ae5a-235ffa975110"
      },
      "outputs": [
        {
          "name": "stdout",
          "output_type": "stream",
          "text": [
            "Search space summary\n",
            "Default search space size: 5\n",
            "units (Int)\n",
            "{'default': None, 'conditions': [], 'min_value': 32, 'max_value': 256, 'step': 32, 'sampling': None}\n",
            "batch_size (Int)\n",
            "{'default': None, 'conditions': [], 'min_value': 32, 'max_value': 256, 'step': 32, 'sampling': None}\n",
            "dropout (Float)\n",
            "{'default': 0.0, 'conditions': [], 'min_value': 0.0, 'max_value': 0.5, 'step': 0.1, 'sampling': None}\n",
            "learning_rate (Choice)\n",
            "{'default': 0.01, 'conditions': [], 'values': [0.01, 0.001, 0.0001], 'ordered': True}\n",
            "optimizer (Choice)\n",
            "{'default': 'adam', 'conditions': [], 'values': ['adam', 'sgd'], 'ordered': False}\n"
          ]
        }
      ],
      "source": [
        "#Printing search space\n",
        "tuner.search_space_summary()"
      ]
    },
    {
      "cell_type": "code",
      "execution_count": 47,
      "metadata": {
        "id": "mny7Vjin-ZKf"
      },
      "outputs": [
        {
          "name": "stdout",
          "output_type": "stream",
          "text": [
            "Trial 30 Complete [00h 01m 18s]\n",
            "mse: 0.22734194993972778\n",
            "\n",
            "Best mse So Far: 0.07122675329446793\n",
            "Total elapsed time: 00h 24m 12s\n",
            "INFO:tensorflow:Oracle triggered exit\n"
          ]
        }
      ],
      "source": [
        "# Search for the best model\n",
        "tuner.search(x_train, y_train, epochs=100, validation_data=(x_validation, y_validation),callbacks=[calllbacks])"
      ]
    },
    {
      "cell_type": "code",
      "execution_count": null,
      "metadata": {
        "id": "q-3VGcR2Imq6"
      },
      "outputs": [],
      "source": [
        "#%load_ext tensorboard\n",
        "%reload_ext tensorboard\n",
        "%tensorboard --logdir='logsSimpleRNN' #callback to tensorboard. "
      ]
    },
    {
      "cell_type": "code",
      "execution_count": 48,
      "metadata": {},
      "outputs": [
        {
          "name": "stdout",
          "output_type": "stream",
          "text": [
            "Results summary\n",
            "Results in .\\untitled_project\n",
            "Showing 10 best trials\n",
            "<keras_tuner.engine.objective.Objective object at 0x00000235AA584220>\n",
            "Trial summary\n",
            "Hyperparameters:\n",
            "units: 160\n",
            "batch_size: 224\n",
            "dropout: 0.0\n",
            "learning_rate: 0.0001\n",
            "optimizer: adam\n",
            "tuner/epochs: 20\n",
            "tuner/initial_epoch: 7\n",
            "tuner/bracket: 2\n",
            "tuner/round: 2\n",
            "tuner/trial_id: 0012\n",
            "Score: 0.07122675329446793\n",
            "Trial summary\n",
            "Hyperparameters:\n",
            "units: 96\n",
            "batch_size: 128\n",
            "dropout: 0.1\n",
            "learning_rate: 0.0001\n",
            "optimizer: adam\n",
            "tuner/epochs: 20\n",
            "tuner/initial_epoch: 0\n",
            "tuner/bracket: 0\n",
            "tuner/round: 0\n",
            "Score: 0.08430004119873047\n",
            "Trial summary\n",
            "Hyperparameters:\n",
            "units: 128\n",
            "batch_size: 192\n",
            "dropout: 0.1\n",
            "learning_rate: 0.01\n",
            "optimizer: adam\n",
            "tuner/epochs: 20\n",
            "tuner/initial_epoch: 7\n",
            "tuner/bracket: 1\n",
            "tuner/round: 1\n",
            "tuner/trial_id: 0022\n",
            "Score: 0.08949676156044006\n",
            "Trial summary\n",
            "Hyperparameters:\n",
            "units: 224\n",
            "batch_size: 64\n",
            "dropout: 0.1\n",
            "learning_rate: 0.0001\n",
            "optimizer: adam\n",
            "tuner/epochs: 20\n",
            "tuner/initial_epoch: 7\n",
            "tuner/bracket: 1\n",
            "tuner/round: 1\n",
            "tuner/trial_id: 0021\n",
            "Score: 0.09034525603055954\n",
            "Trial summary\n",
            "Hyperparameters:\n",
            "units: 160\n",
            "batch_size: 96\n",
            "dropout: 0.2\n",
            "learning_rate: 0.001\n",
            "optimizer: adam\n",
            "tuner/epochs: 20\n",
            "tuner/initial_epoch: 7\n",
            "tuner/bracket: 2\n",
            "tuner/round: 2\n",
            "tuner/trial_id: 0013\n",
            "Score: 0.1000414565205574\n",
            "Trial summary\n",
            "Hyperparameters:\n",
            "units: 224\n",
            "batch_size: 64\n",
            "dropout: 0.1\n",
            "learning_rate: 0.0001\n",
            "optimizer: adam\n",
            "tuner/epochs: 7\n",
            "tuner/initial_epoch: 0\n",
            "tuner/bracket: 1\n",
            "tuner/round: 0\n",
            "Score: 0.10300735384225845\n",
            "Trial summary\n",
            "Hyperparameters:\n",
            "units: 128\n",
            "batch_size: 192\n",
            "dropout: 0.1\n",
            "learning_rate: 0.01\n",
            "optimizer: adam\n",
            "tuner/epochs: 7\n",
            "tuner/initial_epoch: 0\n",
            "tuner/bracket: 1\n",
            "tuner/round: 0\n",
            "Score: 0.1041344404220581\n",
            "Trial summary\n",
            "Hyperparameters:\n",
            "units: 160\n",
            "batch_size: 224\n",
            "dropout: 0.0\n",
            "learning_rate: 0.0001\n",
            "optimizer: adam\n",
            "tuner/epochs: 7\n",
            "tuner/initial_epoch: 3\n",
            "tuner/bracket: 2\n",
            "tuner/round: 1\n",
            "tuner/trial_id: 0010\n",
            "Score: 0.10837376862764359\n",
            "Trial summary\n",
            "Hyperparameters:\n",
            "units: 224\n",
            "batch_size: 160\n",
            "dropout: 0.4\n",
            "learning_rate: 0.001\n",
            "optimizer: adam\n",
            "tuner/epochs: 20\n",
            "tuner/initial_epoch: 0\n",
            "tuner/bracket: 0\n",
            "tuner/round: 0\n",
            "Score: 0.10962089151144028\n",
            "Trial summary\n",
            "Hyperparameters:\n",
            "units: 256\n",
            "batch_size: 256\n",
            "dropout: 0.4\n",
            "learning_rate: 0.0001\n",
            "optimizer: adam\n",
            "tuner/epochs: 20\n",
            "tuner/initial_epoch: 0\n",
            "tuner/bracket: 0\n",
            "tuner/round: 0\n",
            "Score: 0.11279487609863281\n"
          ]
        }
      ],
      "source": [
        "tuner.results_summary()"
      ]
    },
    {
      "cell_type": "code",
      "execution_count": 49,
      "metadata": {
        "id": "_FMpQPTgHo2i"
      },
      "outputs": [
        {
          "name": "stdout",
          "output_type": "stream",
          "text": [
            "Model: \"sequential\"\n",
            "_________________________________________________________________\n",
            " Layer (type)                Output Shape              Param #   \n",
            "=================================================================\n",
            " simple_rnn (SimpleRNN)      (None, 160)               27040     \n",
            "                                                                 \n",
            " dropout (Dropout)           (None, 160)               0         \n",
            "                                                                 \n",
            " dense (Dense)               (None, 24)                3864      \n",
            "                                                                 \n",
            "=================================================================\n",
            "Total params: 30,904\n",
            "Trainable params: 30,904\n",
            "Non-trainable params: 0\n",
            "_________________________________________________________________\n",
            "273/273 [==============================] - 1s 4ms/step - loss: 0.1138 - mse: 0.1138 - mae: 0.2218 - mape: 155.9938\n"
          ]
        }
      ],
      "source": [
        "# Get the best model\n",
        "best_model = tuner.get_best_models(num_models=1)[0]\n",
        "\n",
        "# Evaluate the best model on the validation set\n",
        "best_model_evaluate = best_model.evaluate(x_validation, y_validation)"
      ]
    },
    {
      "cell_type": "code",
      "execution_count": 50,
      "metadata": {},
      "outputs": [
        {
          "data": {
            "text/plain": [
              "['loss', 'mse', 'mae', 'mape']"
            ]
          },
          "execution_count": 50,
          "metadata": {},
          "output_type": "execute_result"
        }
      ],
      "source": [
        "best_model.metrics_names"
      ]
    },
    {
      "cell_type": "code",
      "execution_count": 52,
      "metadata": {},
      "outputs": [
        {
          "name": "stdout",
          "output_type": "stream",
          "text": [
            "273/273 [==============================] - 1s 4ms/step - loss: 0.1138 - mse: 0.1138 - mae: 0.2218 - mape: 155.9938\n"
          ]
        },
        {
          "data": {
            "text/plain": [
              "[0.11384685337543488,\n",
              " 0.11384685337543488,\n",
              " 0.22178667783737183,\n",
              " 155.99375915527344]"
            ]
          },
          "execution_count": 52,
          "metadata": {},
          "output_type": "execute_result"
        }
      ],
      "source": [
        "best_model.evaluate(x_validation, y_validation)"
      ]
    },
    {
      "cell_type": "code",
      "execution_count": 53,
      "metadata": {},
      "outputs": [
        {
          "name": "stdout",
          "output_type": "stream",
          "text": [
            "273/273 [==============================] - 1s 3ms/step\n"
          ]
        }
      ],
      "source": [
        "y_pred_val=best_model.predict(x_validation,callbacks=calllbacks)"
      ]
    },
    {
      "cell_type": "code",
      "execution_count": 54,
      "metadata": {},
      "outputs": [
        {
          "name": "stdout",
          "output_type": "stream",
          "text": [
            "273/273 [==============================] - 1s 3ms/step\n"
          ]
        }
      ],
      "source": [
        "y_pred_rnn_val=best_model.predict(x_validation_viz, callbacks=calllbacks)"
      ]
    },
    {
      "cell_type": "code",
      "execution_count": 55,
      "metadata": {},
      "outputs": [
        {
          "data": {
            "text/plain": [
              "array([[3.8062062, 3.7576785, 4.0811014, ..., 3.0266736, 2.7904358,\n",
              "        4.5486174],\n",
              "       [3.8062062, 3.7576785, 4.0811014, ..., 3.0266736, 2.7904358,\n",
              "        4.5486174],\n",
              "       [3.8062062, 3.7576785, 4.0811014, ..., 3.0266736, 2.7904358,\n",
              "        4.5486174],\n",
              "       ...,\n",
              "       [3.8062062, 3.7576785, 4.0811014, ..., 3.0266736, 2.7904358,\n",
              "        4.5486174],\n",
              "       [3.8062062, 3.7576785, 4.0811014, ..., 3.0266736, 2.7904358,\n",
              "        4.5486174],\n",
              "       [3.8062057, 3.7576776, 4.0811014, ..., 3.0266736, 2.7904358,\n",
              "        4.5486174]], dtype=float32)"
            ]
          },
          "execution_count": 55,
          "metadata": {},
          "output_type": "execute_result"
        }
      ],
      "source": [
        "y_pred_rnn_val"
      ]
    },
    {
      "cell_type": "code",
      "execution_count": 56,
      "metadata": {},
      "outputs": [],
      "source": [
        "#aux. variable for plot\n",
        "\n",
        "x_copy_val=np.zeros((y_validation.shape),dtype=float)\n",
        "for r in range(x_copy_val.shape[0]):\n",
        "    for c in range((x_train.shape[1])):\n",
        "        x_copy_val[r,c]=x_validation[r,c,0]"
      ]
    },
    {
      "cell_type": "code",
      "execution_count": 57,
      "metadata": {},
      "outputs": [
        {
          "data": {
            "text/plain": [
              "<matplotlib.legend.Legend at 0x235ae375a30>"
            ]
          },
          "execution_count": 57,
          "metadata": {},
          "output_type": "execute_result"
        },
        {
          "data": {
            "image/png": "[encoded data removed]",
            "text/plain": [
              "<Figure size 432x288 with 1 Axes>"
            ]
          },
          "metadata": {
            "needs_background": "light"
          },
          "output_type": "display_data"
        }
      ],
      "source": [
        "# x-axis aux. vectors\n",
        "x_input=np.arange(0,24)\n",
        "x_ahead=np.arange(24,48)\n",
        "xlabel='Energy Demand (normalized))'\n",
        "plt.figure()\n",
        "plt.plot()\n",
        "plt.plot(x_input,x_copy_val[48],color='blue', label='Inputs',marker='o')\n",
        "plt.plot(x_ahead,y_pred_val[48], color='red', label = 'SimpleRNN (Y_forecast)')\n",
        "plt.plot(x_ahead,y_validation[48],color='black',label='Labels (Y_true)',linestyle='dashed')\n",
        "plt.ylabel(xlabel)\n",
        "plt.xlabel('Hours (h)')\n",
        "plt.legend()"
      ]
    },
    {
      "cell_type": "markdown",
      "metadata": {
        "id": "aeQzW-SZEUub"
      },
      "source": [
        "### Bi-LSTM"
      ]
    },
    {
      "cell_type": "code",
      "execution_count": 32,
      "metadata": {
        "id": "UT8Zjha7EUuc"
      },
      "outputs": [],
      "source": [
        "#import os\n",
        "#working_dir=os.getcwd()\n",
        "callbacks=[\n",
        "    keras.callbacks.TensorBoard(log_dir = 'logsBiLSTM'),\n",
        "    tf.keras.callbacks.EarlyStopping(monitor=\"mse\",patience=3,mode=\"auto\")]\n",
        "\n",
        "\n",
        "# Define the model\n",
        "def build_model(hp):\n",
        "    model = Sequential()\n",
        "    lstm_activations=hp.Choice('lstm_activations', values=['relu', 'tanh','sigmoid'])\n",
        "    model.add(Bidirectional(LSTM(units=hp.Int('units', min_value=32, max_value=256, step=32),activation=lstm_activations, return_sequences=True, input_shape=(x_train.shape[1], x_train.shape[2]))))\n",
        "    model.add(Bidirectional(LSTM(units=hp.Int('units', min_value=32, max_value=256, step=32),activation=lstm_activations)))\n",
        "    batch_size = hp.Int('batch_size', min_value=32, max_value=256, step=32)\n",
        "    #model.add(LSTM(units=hp.Int('units', min_value=32, max_value=256, step=32),activation=lstm_activations, return_sequences=True, input_shape=(x_train.shape[1], x_train.shape[2])))\n",
        "    #model.add(LSTM(units=hp.Int('units', min_value=32, max_value=256, step=32),return_sequences=True))\n",
        "    model.add(Dropout(hp.Float('dropout', min_value=0.0, max_value=0.5, step=0.1)))\n",
        "    dense_activations=hp.Choice('dense_activations', values=['relu', 'tanh','sigmoid'])\n",
        "    model.add(Dense(24,activation=dense_activations))\n",
        "    \n",
        "    # Choose an optimizer\n",
        "    optimizer = hp.Choice('optimizer', ['adam', 'sgd','rmsprop'])\n",
        "    if optimizer == 'adam':\n",
        "        optimizer = tf.keras.optimizers.Adam(\n",
        "            hp.Float('learning_rate', min_value=1e-4, max_value=1e-2, sampling='log'))\n",
        "    elif optimizer == 'sgd':\n",
        "        optimizer = tf.keras.optimizers.SGD(\n",
        "            hp.Float('learning_rate', min_value=1e-4, max_value=1e-2, sampling='log'))\n",
        "    else:    \n",
        "        optimizer = tf.keras.optimizers.RMSprop(\n",
        "            hp.Float('learning_rate', min_value=1e-4, max_value=1e-2, sampling='log'))\n",
        "        \n",
        "    # Compile the model\n",
        "    model.compile(optimizer=optimizer, loss=tf.keras.losses.MeanSquaredError(),metrics=['mse', 'mae', 'mape'])\n",
        "    model.summary\n",
        "    return model\n",
        "\n",
        "# Use the Keras Tuner to search for the best set of hyperparameters\n",
        "tuners = kt.Hyperband(build_model, objective='mse', max_epochs=20,factor=3,seed=3,hyperband_iterations=1,overwrite=True)"
      ]
    },
    {
      "cell_type": "code",
      "execution_count": 33,
      "metadata": {
        "id": "aof8FompAHOL"
      },
      "outputs": [
        {
          "name": "stdout",
          "output_type": "stream",
          "text": [
            "Search space summary\n",
            "Default search space size: 7\n",
            "lstm_activations (Choice)\n",
            "{'default': 'relu', 'conditions': [], 'values': ['relu', 'tanh', 'sigmoid'], 'ordered': False}\n",
            "units (Int)\n",
            "{'default': None, 'conditions': [], 'min_value': 32, 'max_value': 256, 'step': 32, 'sampling': None}\n",
            "batch_size (Int)\n",
            "{'default': None, 'conditions': [], 'min_value': 32, 'max_value': 256, 'step': 32, 'sampling': None}\n",
            "dropout (Float)\n",
            "{'default': 0.0, 'conditions': [], 'min_value': 0.0, 'max_value': 0.5, 'step': 0.1, 'sampling': None}\n",
            "dense_activations (Choice)\n",
            "{'default': 'relu', 'conditions': [], 'values': ['relu', 'tanh', 'sigmoid'], 'ordered': False}\n",
            "optimizer (Choice)\n",
            "{'default': 'adam', 'conditions': [], 'values': ['adam', 'sgd', 'rmsprop'], 'ordered': False}\n",
            "learning_rate (Float)\n",
            "{'default': 0.0001, 'conditions': [], 'min_value': 0.0001, 'max_value': 0.01, 'step': None, 'sampling': 'log'}\n"
          ]
        }
      ],
      "source": [
        "tuners.search_space_summary()"
      ]
    },
    {
      "cell_type": "code",
      "execution_count": 34,
      "metadata": {
        "id": "UhIdXF4nACs0"
      },
      "outputs": [
        {
          "name": "stdout",
          "output_type": "stream",
          "text": [
            "Trial 17 Complete [00h 09m 40s]\n",
            "mse: 0.14281371235847473\n",
            "\n",
            "Best mse So Far: 0.14281371235847473\n",
            "Total elapsed time: 01h 24m 04s\n",
            "\n",
            "Search: Running Trial #18\n",
            "\n",
            "Value             |Best Value So Far |Hyperparameter\n",
            "tanh              |relu              |lstm_activations\n",
            "224               |96                |units\n",
            "128               |160               |batch_size\n",
            "0.2               |0.4               |dropout\n",
            "tanh              |tanh              |dense_activations\n",
            "adam              |adam              |optimizer\n",
            "0.00019529        |0.00084336        |learning_rate\n",
            "20                |20                |tuner/epochs\n",
            "7                 |7                 |tuner/initial_epoch\n",
            "2                 |2                 |tuner/bracket\n",
            "2                 |2                 |tuner/round\n",
            "0012              |0013              |tuner/trial_id\n",
            "\n",
            "Epoch 8/20\n",
            "821/821 [==============================] - 225s 264ms/step - loss: 0.2772 - mse: 0.2772 - mae: 0.4009 - mape: 220.7188 - val_loss: 0.2401 - val_mse: 0.2401 - val_mae: 0.3567 - val_mape: 186.7437\n",
            "Epoch 9/20\n",
            "821/821 [==============================] - 201s 245ms/step - loss: 0.2079 - mse: 0.2079 - mae: 0.3367 - mape: 192.0458 - val_loss: 0.2316 - val_mse: 0.2316 - val_mae: 0.3395 - val_mape: 175.0899\n",
            "Epoch 10/20\n",
            "821/821 [==============================] - 200s 244ms/step - loss: 0.1955 - mse: 0.1955 - mae: 0.3235 - mape: 183.6850 - val_loss: 0.2285 - val_mse: 0.2285 - val_mae: 0.3324 - val_mape: 164.2726\n",
            "Epoch 11/20\n",
            "821/821 [==============================] - 200s 244ms/step - loss: 0.1890 - mse: 0.1890 - mae: 0.3157 - mape: 177.1806 - val_loss: 0.2617 - val_mse: 0.2617 - val_mae: 0.3562 - val_mape: 158.1485\n",
            "Epoch 12/20\n",
            "821/821 [==============================] - ETA: 0s - loss: 0.1827 - mse: 0.1827 - mae: 0.3082 - mape: 165.3778"
          ]
        }
      ],
      "source": [
        "tuners.search(x_train, y_train, epochs=100,validation_data=(x_validation, y_validation),callbacks=[callbacks])"
      ]
    },
    {
      "cell_type": "code",
      "execution_count": 77,
      "metadata": {},
      "outputs": [],
      "source": [
        "tuners.results_summary()"
      ]
    },
    {
      "cell_type": "code",
      "execution_count": null,
      "metadata": {
        "id": "ezy6TnB1Aasu"
      },
      "outputs": [],
      "source": [
        "# Get the best model\n",
        "best__model = tuners.get_best_models(num_models=1)[0]\n",
        "\n",
        "# Evaluate the best model on the validation set\n",
        "best__model.evaluate(x_validation, y_validation)"
      ]
    },
    {
      "cell_type": "code",
      "execution_count": null,
      "metadata": {},
      "outputs": [],
      "source": [
        "best__model.metrics_names"
      ]
    },
    {
      "cell_type": "code",
      "execution_count": null,
      "metadata": {},
      "outputs": [],
      "source": [
        "y_pred_val_biltsm=best__model.predict(x_validation,callbacks=calllbacks)"
      ]
    },
    {
      "cell_type": "code",
      "execution_count": null,
      "metadata": {},
      "outputs": [],
      "source": [
        "# x-axis aux. vectors\n",
        "x_input=np.arange(0,24)\n",
        "x_ahead=np.arange(24,48)\n",
        "xlabel='Energy Demand (normalized))'\n",
        "plt.figure()\n",
        "plt.plot()\n",
        "plt.plot(x_input,x_copy_val[48],color='blue', label='Inputs',marker='o')\n",
        "plt.plot(x_ahead,y_pred_val[48], color='red', label = 'SimpleRNN (Y_forecast)')\n",
        "plt.plot(x_ahead,y_validation[48],color='black',label='Labels (Y_true)',linestyle='dashed')\n",
        "\n",
        "plt.ylabel(xlabel)\n",
        "plt.xlabel('Hours (h)')\n",
        "plt.legend()"
      ]
    },
    {
      "attachments": {},
      "cell_type": "markdown",
      "metadata": {},
      "source": [
        "# MSTL"
      ]
    },
    {
      "cell_type": "code",
      "execution_count": 64,
      "metadata": {},
      "outputs": [
        {
          "name": "stdout",
          "output_type": "stream",
          "text": [
            "Collecting statsforecast\n",
            "  Downloading statsforecast-1.4.0-py3-none-any.whl (91 kB)\n",
            "     ---------------------------------------- 92.0/92.0 kB 1.3 MB/s eta 0:00:00\n",
            "Collecting numba>=0.55.0\n",
            "  Downloading numba-0.56.4-cp38-cp38-win_amd64.whl (2.5 MB)\n",
            "     ---------------------------------------- 2.5/2.5 MB 12.0 MB/s eta 0:00:00\n",
            "Requirement already satisfied: tqdm in c:\\users\\joaocravinhosantos\\anaconda3\\lib\\site-packages (from statsforecast) (4.59.0)\n",
            "Collecting plotly\n",
            "  Downloading plotly-5.11.0-py2.py3-none-any.whl (15.3 MB)\n",
            "     --------------------------------------- 15.3/15.3 MB 10.1 MB/s eta 0:00:00\n"
          ]
        },
        {
          "name": "stderr",
          "output_type": "stream",
          "text": [
            "ERROR: Could not install packages due to an OSError: [WinError 5] Access is denied: 'C:\\\\Users\\\\JoaoCravinhoSantos\\\\anaconda3\\\\Lib\\\\site-packages\\\\~umpy\\\\core\\\\_multiarray_tests.cp38-win_amd64.pyd'\n",
            "Consider using the `--user` option or check the permissions.\n",
            "\n"
          ]
        },
        {
          "name": "stdout",
          "output_type": "stream",
          "text": [
            "Collecting scipy>=1.7.3\n",
            "  Downloading scipy-1.10.0-cp38-cp38-win_amd64.whl (42.2 MB)\n",
            "     ---------------------------------------- 42.2/42.2 MB 5.8 MB/s eta 0:00:00\n",
            "Collecting statsmodels>=0.13.2\n",
            "  Downloading statsmodels-0.13.5-cp38-cp38-win_amd64.whl (9.2 MB)\n",
            "     ---------------------------------------- 9.2/9.2 MB 11.3 MB/s eta 0:00:00\n",
            "Collecting numpy>=1.21.6\n",
            "  Downloading numpy-1.24.1-cp38-cp38-win_amd64.whl (14.9 MB)\n",
            "     ---------------------------------------- 14.9/14.9 MB 9.9 MB/s eta 0:00:00\n",
            "Requirement already satisfied: matplotlib in c:\\users\\joaocravinhosantos\\anaconda3\\lib\\site-packages (from statsforecast) (3.3.4)\n",
            "Collecting pandas>=1.3.5\n",
            "  Downloading pandas-1.5.2-cp38-cp38-win_amd64.whl (11.0 MB)\n",
            "     ---------------------------------------- 11.0/11.0 MB 9.6 MB/s eta 0:00:00\n",
            "Requirement already satisfied: importlib-metadata in c:\\users\\joaocravinhosantos\\anaconda3\\lib\\site-packages (from numba>=0.55.0->statsforecast) (6.0.0)\n",
            "Requirement already satisfied: setuptools in c:\\users\\joaocravinhosantos\\anaconda3\\lib\\site-packages (from numba>=0.55.0->statsforecast) (52.0.0.post20210125)\n",
            "Collecting llvmlite<0.40,>=0.39.0dev0\n",
            "  Downloading llvmlite-0.39.1-cp38-cp38-win_amd64.whl (23.2 MB)\n",
            "     ---------------------------------------- 23.2/23.2 MB 7.9 MB/s eta 0:00:00\n",
            "Collecting numpy>=1.21.6\n",
            "  Downloading numpy-1.23.5-cp38-cp38-win_amd64.whl (14.7 MB)\n",
            "     --------------------------------------- 14.7/14.7 MB 10.4 MB/s eta 0:00:00\n",
            "Requirement already satisfied: pytz>=2020.1 in c:\\users\\joaocravinhosantos\\anaconda3\\lib\\site-packages (from pandas>=1.3.5->statsforecast) (2021.1)\n",
            "Requirement already satisfied: python-dateutil>=2.8.1 in c:\\users\\joaocravinhosantos\\anaconda3\\lib\\site-packages (from pandas>=1.3.5->statsforecast) (2.8.1)\n",
            "Collecting packaging>=21.3\n",
            "  Downloading packaging-23.0-py3-none-any.whl (42 kB)\n",
            "     -------------------------------------- 42.7/42.7 kB 690.2 kB/s eta 0:00:00\n",
            "Collecting patsy>=0.5.2\n",
            "  Downloading patsy-0.5.3-py2.py3-none-any.whl (233 kB)\n",
            "     -------------------------------------- 233.8/233.8 kB 3.6 MB/s eta 0:00:00\n",
            "Requirement already satisfied: kiwisolver>=1.0.1 in c:\\users\\joaocravinhosantos\\anaconda3\\lib\\site-packages (from matplotlib->statsforecast) (1.3.1)\n",
            "Requirement already satisfied: pillow>=6.2.0 in c:\\users\\joaocravinhosantos\\anaconda3\\lib\\site-packages (from matplotlib->statsforecast) (8.2.0)\n",
            "Requirement already satisfied: cycler>=0.10 in c:\\users\\joaocravinhosantos\\anaconda3\\lib\\site-packages (from matplotlib->statsforecast) (0.10.0)\n",
            "Requirement already satisfied: pyparsing!=2.0.4,!=2.1.2,!=2.1.6,>=2.0.3 in c:\\users\\joaocravinhosantos\\anaconda3\\lib\\site-packages (from matplotlib->statsforecast) (2.4.7)\n",
            "Collecting tenacity>=6.2.0\n",
            "  Downloading tenacity-8.1.0-py3-none-any.whl (23 kB)\n",
            "Requirement already satisfied: six in c:\\users\\joaocravinhosantos\\anaconda3\\lib\\site-packages (from cycler>=0.10->matplotlib->statsforecast) (1.15.0)\n",
            "Requirement already satisfied: zipp>=0.5 in c:\\users\\joaocravinhosantos\\anaconda3\\lib\\site-packages (from importlib-metadata->numba>=0.55.0->statsforecast) (3.4.1)\n",
            "Installing collected packages: tenacity, packaging, numpy, llvmlite, scipy, plotly, patsy, pandas, numba, statsmodels, statsforecast\n",
            "  Attempting uninstall: packaging\n",
            "    Found existing installation: packaging 20.9\n",
            "    Uninstalling packaging-20.9:\n",
            "      Successfully uninstalled packaging-20.9\n",
            "  Attempting uninstall: numpy\n",
            "    Found existing installation: numpy 1.20.1\n",
            "    Uninstalling numpy-1.20.1:\n",
            "      Successfully uninstalled numpy-1.20.1\n"
          ]
        }
      ],
      "source": [
        "!pip install statsforecast"
      ]
    },
    {
      "cell_type": "code",
      "execution_count": null,
      "metadata": {},
      "outputs": [],
      "source": [
        "from statsforecast.models import MSTL"
      ]
    },
    {
      "cell_type": "code",
      "execution_count": null,
      "metadata": {},
      "outputs": [],
      "source": [
        "mstl_model = MSTL(season_length=[24, 8760], trend_forecaster=AutoARIMA())\n",
        "mstl_model = mstl_model.fit(y=y_train)\n",
        "y_hat_dict = mstl_model.predict(h=8760, level=[90])\n",
        "y_hat_dict"
      ]
    }
  ],
  "metadata": {
    "colab": {
      "provenance": []
    },
    "kernelspec": {
      "display_name": "base",
      "language": "python",
      "name": "python3"
    },
    "language_info": {
      "codemirror_mode": {
        "name": "ipython",
        "version": 3
      },
      "file_extension": ".py",
      "mimetype": "text/x-python",
      "name": "python",
      "nbconvert_exporter": "python",
      "pygments_lexer": "ipython3",
      "version": "3.9.13 (main, Aug 25 2022, 23:51:50) [MSC v.1916 64 bit (AMD64)]"
    },
    "orig_nbformat": 4,
    "vscode": {
      "interpreter": {
        "hash": "ee913d83a0c82c8d547cbbd2c0a6f5c15e3a23100419de5e4ed8e88628ce52c9"
      }
    }
  },
  "nbformat": 4,
  "nbformat_minor": 0
}
