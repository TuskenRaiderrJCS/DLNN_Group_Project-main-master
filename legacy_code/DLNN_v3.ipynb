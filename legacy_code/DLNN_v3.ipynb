{
  "cells": [
    {
      "cell_type": "markdown",
      "metadata": {
        "id": "UTRuFl-uEUsk"
      },
      "source": [
        "# Table of contents\n",
        "1. [Requirements](#Requirements)\n",
        "2. [Introduction](#Introduction)\n",
        "3. [Imports](#Imports)\n",
        "    1. [Libraries](#Libraries)\n",
        "    2. [Data](#Data)\n",
        "4. [Data Exploration](#data-exploration)\n",
        "5. [Modelling](#modelling)\n",
        "    1. [Baseline](#baseline)\n",
        "    2. [LSTM](#lstm)\n",
        "6. [Results Analysis](#results-analysis)"
      ]
    },
    {
      "cell_type": "markdown",
      "metadata": {
        "id": "XOYRa5PPEUss"
      },
      "source": [
        "# Requirements"
      ]
    },
    {
      "cell_type": "markdown",
      "metadata": {
        "id": "_cMtvw-0EUsu"
      },
      "source": []
    },
    {
      "cell_type": "code",
      "execution_count": 7,
      "metadata": {
        "colab": {
          "base_uri": "https://localhost:8080/"
        },
        "id": "BUWEcIpsKX88",
        "outputId": "7a0f3199-39ac-47ba-bfcb-b6c1587f11de"
      },
      "outputs": [
        {
          "name": "stdout",
          "output_type": "stream",
          "text": [
            "Requirement already satisfied: tensorboard in c:\\users\\e703601\\anaconda3\\lib\\site-packages (2.11.0)\n",
            "Requirement already satisfied: markdown>=2.6.8 in c:\\users\\e703601\\anaconda3\\lib\\site-packages (from tensorboard) (3.3.4)\n",
            "Requirement already satisfied: werkzeug>=1.0.1 in c:\\users\\e703601\\anaconda3\\lib\\site-packages (from tensorboard) (2.0.3)\n",
            "Requirement already satisfied: absl-py>=0.4 in c:\\users\\e703601\\anaconda3\\lib\\site-packages (from tensorboard) (1.3.0)\n",
            "Requirement already satisfied: grpcio>=1.24.3 in c:\\users\\e703601\\anaconda3\\lib\\site-packages (from tensorboard) (1.51.1)\n",
            "Requirement already satisfied: tensorboard-data-server<0.7.0,>=0.6.0 in c:\\users\\e703601\\anaconda3\\lib\\site-packages (from tensorboard) (0.6.1)\n",
            "Requirement already satisfied: google-auth<3,>=1.6.3 in c:\\users\\e703601\\anaconda3\\lib\\site-packages (from tensorboard) (2.15.0)\n",
            "Requirement already satisfied: requests<3,>=2.21.0 in c:\\users\\e703601\\anaconda3\\lib\\site-packages (from tensorboard) (2.28.1)\n",
            "Requirement already satisfied: wheel>=0.26 in c:\\users\\e703601\\anaconda3\\lib\\site-packages (from tensorboard) (0.37.1)\n",
            "Requirement already satisfied: protobuf<4,>=3.9.2 in c:\\users\\e703601\\anaconda3\\lib\\site-packages (from tensorboard) (3.19.6)\n",
            "Requirement already satisfied: setuptools>=41.0.0 in c:\\users\\e703601\\anaconda3\\lib\\site-packages (from tensorboard) (63.4.1)\n",
            "Requirement already satisfied: tensorboard-plugin-wit>=1.6.0 in c:\\users\\e703601\\anaconda3\\lib\\site-packages (from tensorboard) (1.8.1)\n",
            "Requirement already satisfied: google-auth-oauthlib<0.5,>=0.4.1 in c:\\users\\e703601\\anaconda3\\lib\\site-packages (from tensorboard) (0.4.6)\n",
            "Requirement already satisfied: numpy>=1.12.0 in c:\\users\\e703601\\anaconda3\\lib\\site-packages (from tensorboard) (1.21.5)\n",
            "Requirement already satisfied: pyasn1-modules>=0.2.1 in c:\\users\\e703601\\anaconda3\\lib\\site-packages (from google-auth<3,>=1.6.3->tensorboard) (0.2.8)\n",
            "Requirement already satisfied: six>=1.9.0 in c:\\users\\e703601\\anaconda3\\lib\\site-packages (from google-auth<3,>=1.6.3->tensorboard) (1.16.0)\n",
            "Requirement already satisfied: cachetools<6.0,>=2.0.0 in c:\\users\\e703601\\anaconda3\\lib\\site-packages (from google-auth<3,>=1.6.3->tensorboard) (5.2.0)\n",
            "Requirement already satisfied: rsa<5,>=3.1.4 in c:\\users\\e703601\\anaconda3\\lib\\site-packages (from google-auth<3,>=1.6.3->tensorboard) (4.9)\n",
            "Requirement already satisfied: requests-oauthlib>=0.7.0 in c:\\users\\e703601\\anaconda3\\lib\\site-packages (from google-auth-oauthlib<0.5,>=0.4.1->tensorboard) (1.3.1)\n",
            "Requirement already satisfied: charset-normalizer<3,>=2 in c:\\users\\e703601\\anaconda3\\lib\\site-packages (from requests<3,>=2.21.0->tensorboard) (2.0.4)\n",
            "Requirement already satisfied: urllib3<1.27,>=1.21.1 in c:\\users\\e703601\\anaconda3\\lib\\site-packages (from requests<3,>=2.21.0->tensorboard) (1.26.11)\n",
            "Requirement already satisfied: certifi>=2017.4.17 in c:\\users\\e703601\\anaconda3\\lib\\site-packages (from requests<3,>=2.21.0->tensorboard) (2022.9.14)\n",
            "Requirement already satisfied: idna<4,>=2.5 in c:\\users\\e703601\\anaconda3\\lib\\site-packages (from requests<3,>=2.21.0->tensorboard) (3.3)\n",
            "Requirement already satisfied: pyasn1<0.5.0,>=0.4.6 in c:\\users\\e703601\\anaconda3\\lib\\site-packages (from pyasn1-modules>=0.2.1->google-auth<3,>=1.6.3->tensorboard) (0.4.8)\n",
            "Requirement already satisfied: oauthlib>=3.0.0 in c:\\users\\e703601\\anaconda3\\lib\\site-packages (from requests-oauthlib>=0.7.0->google-auth-oauthlib<0.5,>=0.4.1->tensorboard) (3.2.2)\n"
          ]
        }
      ],
      "source": [
        "! pip install tensorboard"
      ]
    },
    {
      "cell_type": "code",
      "execution_count": 8,
      "metadata": {
        "colab": {
          "base_uri": "https://localhost:8080/"
        },
        "id": "pf-ZI7xUEUsw",
        "outputId": "e67da54b-a09e-4560-c9df-ddc62b94bce6"
      },
      "outputs": [
        {
          "name": "stdout",
          "output_type": "stream",
          "text": [
            "Requirement already satisfied: keras-tuner in c:\\users\\e703601\\anaconda3\\lib\\site-packages (1.1.3)\n",
            "Requirement already satisfied: requests in c:\\users\\e703601\\anaconda3\\lib\\site-packages (from keras-tuner) (2.28.1)\n",
            "Requirement already satisfied: packaging in c:\\users\\e703601\\anaconda3\\lib\\site-packages (from keras-tuner) (21.3)\n",
            "Requirement already satisfied: kt-legacy in c:\\users\\e703601\\anaconda3\\lib\\site-packages (from keras-tuner) (1.0.4)\n",
            "Requirement already satisfied: tensorboard in c:\\users\\e703601\\anaconda3\\lib\\site-packages (from keras-tuner) (2.11.0)\n",
            "Requirement already satisfied: ipython in c:\\users\\e703601\\anaconda3\\lib\\site-packages (from keras-tuner) (7.31.1)\n",
            "Requirement already satisfied: numpy in c:\\users\\e703601\\anaconda3\\lib\\site-packages (from keras-tuner) (1.21.5)\n",
            "Requirement already satisfied: decorator in c:\\users\\e703601\\anaconda3\\lib\\site-packages (from ipython->keras-tuner) (5.1.1)\n",
            "Requirement already satisfied: pickleshare in c:\\users\\e703601\\anaconda3\\lib\\site-packages (from ipython->keras-tuner) (0.7.5)\n",
            "Requirement already satisfied: pygments in c:\\users\\e703601\\anaconda3\\lib\\site-packages (from ipython->keras-tuner) (2.11.2)\n",
            "Requirement already satisfied: prompt-toolkit!=3.0.0,!=3.0.1,<3.1.0,>=2.0.0 in c:\\users\\e703601\\anaconda3\\lib\\site-packages (from ipython->keras-tuner) (3.0.20)\n",
            "Requirement already satisfied: jedi>=0.16 in c:\\users\\e703601\\anaconda3\\lib\\site-packages (from ipython->keras-tuner) (0.18.1)\n",
            "Requirement already satisfied: backcall in c:\\users\\e703601\\anaconda3\\lib\\site-packages (from ipython->keras-tuner) (0.2.0)\n",
            "Requirement already satisfied: colorama in c:\\users\\e703601\\anaconda3\\lib\\site-packages (from ipython->keras-tuner) (0.4.5)\n",
            "Requirement already satisfied: traitlets>=4.2 in c:\\users\\e703601\\anaconda3\\lib\\site-packages (from ipython->keras-tuner) (5.1.1)\n",
            "Requirement already satisfied: setuptools>=18.5 in c:\\users\\e703601\\anaconda3\\lib\\site-packages (from ipython->keras-tuner) (63.4.1)\n",
            "Requirement already satisfied: matplotlib-inline in c:\\users\\e703601\\anaconda3\\lib\\site-packages (from ipython->keras-tuner) (0.1.6)\n",
            "Requirement already satisfied: pyparsing!=3.0.5,>=2.0.2 in c:\\users\\e703601\\anaconda3\\lib\\site-packages (from packaging->keras-tuner) (3.0.9)\n",
            "Requirement already satisfied: idna<4,>=2.5 in c:\\users\\e703601\\anaconda3\\lib\\site-packages (from requests->keras-tuner) (3.3)\n",
            "Requirement already satisfied: certifi>=2017.4.17 in c:\\users\\e703601\\anaconda3\\lib\\site-packages (from requests->keras-tuner) (2022.9.14)\n",
            "Requirement already satisfied: urllib3<1.27,>=1.21.1 in c:\\users\\e703601\\anaconda3\\lib\\site-packages (from requests->keras-tuner) (1.26.11)\n",
            "Requirement already satisfied: charset-normalizer<3,>=2 in c:\\users\\e703601\\anaconda3\\lib\\site-packages (from requests->keras-tuner) (2.0.4)\n",
            "Requirement already satisfied: werkzeug>=1.0.1 in c:\\users\\e703601\\anaconda3\\lib\\site-packages (from tensorboard->keras-tuner) (2.0.3)\n",
            "Requirement already satisfied: google-auth<3,>=1.6.3 in c:\\users\\e703601\\anaconda3\\lib\\site-packages (from tensorboard->keras-tuner) (2.15.0)\n",
            "Requirement already satisfied: google-auth-oauthlib<0.5,>=0.4.1 in c:\\users\\e703601\\anaconda3\\lib\\site-packages (from tensorboard->keras-tuner) (0.4.6)\n",
            "Requirement already satisfied: absl-py>=0.4 in c:\\users\\e703601\\anaconda3\\lib\\site-packages (from tensorboard->keras-tuner) (1.3.0)\n",
            "Requirement already satisfied: grpcio>=1.24.3 in c:\\users\\e703601\\anaconda3\\lib\\site-packages (from tensorboard->keras-tuner) (1.51.1)\n",
            "Requirement already satisfied: tensorboard-plugin-wit>=1.6.0 in c:\\users\\e703601\\anaconda3\\lib\\site-packages (from tensorboard->keras-tuner) (1.8.1)\n",
            "Requirement already satisfied: tensorboard-data-server<0.7.0,>=0.6.0 in c:\\users\\e703601\\anaconda3\\lib\\site-packages (from tensorboard->keras-tuner) (0.6.1)\n",
            "Requirement already satisfied: protobuf<4,>=3.9.2 in c:\\users\\e703601\\anaconda3\\lib\\site-packages (from tensorboard->keras-tuner) (3.19.6)\n",
            "Requirement already satisfied: wheel>=0.26 in c:\\users\\e703601\\anaconda3\\lib\\site-packages (from tensorboard->keras-tuner) (0.37.1)\n",
            "Requirement already satisfied: markdown>=2.6.8 in c:\\users\\e703601\\anaconda3\\lib\\site-packages (from tensorboard->keras-tuner) (3.3.4)\n",
            "Requirement already satisfied: cachetools<6.0,>=2.0.0 in c:\\users\\e703601\\anaconda3\\lib\\site-packages (from google-auth<3,>=1.6.3->tensorboard->keras-tuner) (5.2.0)\n",
            "Requirement already satisfied: pyasn1-modules>=0.2.1 in c:\\users\\e703601\\anaconda3\\lib\\site-packages (from google-auth<3,>=1.6.3->tensorboard->keras-tuner) (0.2.8)\n",
            "Requirement already satisfied: six>=1.9.0 in c:\\users\\e703601\\anaconda3\\lib\\site-packages (from google-auth<3,>=1.6.3->tensorboard->keras-tuner) (1.16.0)\n",
            "Requirement already satisfied: rsa<5,>=3.1.4 in c:\\users\\e703601\\anaconda3\\lib\\site-packages (from google-auth<3,>=1.6.3->tensorboard->keras-tuner) (4.9)\n",
            "Requirement already satisfied: requests-oauthlib>=0.7.0 in c:\\users\\e703601\\anaconda3\\lib\\site-packages (from google-auth-oauthlib<0.5,>=0.4.1->tensorboard->keras-tuner) (1.3.1)\n",
            "Requirement already satisfied: parso<0.9.0,>=0.8.0 in c:\\users\\e703601\\anaconda3\\lib\\site-packages (from jedi>=0.16->ipython->keras-tuner) (0.8.3)\n",
            "Requirement already satisfied: wcwidth in c:\\users\\e703601\\anaconda3\\lib\\site-packages (from prompt-toolkit!=3.0.0,!=3.0.1,<3.1.0,>=2.0.0->ipython->keras-tuner) (0.2.5)\n",
            "Requirement already satisfied: pyasn1<0.5.0,>=0.4.6 in c:\\users\\e703601\\anaconda3\\lib\\site-packages (from pyasn1-modules>=0.2.1->google-auth<3,>=1.6.3->tensorboard->keras-tuner) (0.4.8)\n",
            "Requirement already satisfied: oauthlib>=3.0.0 in c:\\users\\e703601\\anaconda3\\lib\\site-packages (from requests-oauthlib>=0.7.0->google-auth-oauthlib<0.5,>=0.4.1->tensorboard->keras-tuner) (3.2.2)\n"
          ]
        }
      ],
      "source": [
        "!pip install keras-tuner"
      ]
    },
    {
      "cell_type": "code",
      "execution_count": 9,
      "metadata": {
        "colab": {
          "base_uri": "https://localhost:8080/"
        },
        "id": "8ECKfWLUEUs1",
        "outputId": "5c0a0b10-9b04-4961-ce0f-47e51a9b32b0"
      },
      "outputs": [
        {
          "name": "stdout",
          "output_type": "stream",
          "text": [
            "Requirement already satisfied: holidays in c:\\users\\e703601\\anaconda3\\lib\\site-packages (0.18)\n",
            "Requirement already satisfied: PyMeeus in c:\\users\\e703601\\anaconda3\\lib\\site-packages (from holidays) (0.5.12)\n",
            "Requirement already satisfied: korean-lunar-calendar in c:\\users\\e703601\\anaconda3\\lib\\site-packages (from holidays) (0.3.1)\n",
            "Requirement already satisfied: convertdate>=2.3.0 in c:\\users\\e703601\\anaconda3\\lib\\site-packages (from holidays) (2.4.0)\n",
            "Requirement already satisfied: python-dateutil in c:\\users\\e703601\\anaconda3\\lib\\site-packages (from holidays) (2.8.2)\n",
            "Requirement already satisfied: hijri-converter in c:\\users\\e703601\\anaconda3\\lib\\site-packages (from holidays) (2.2.4)\n",
            "Requirement already satisfied: six>=1.5 in c:\\users\\e703601\\anaconda3\\lib\\site-packages (from python-dateutil->holidays) (1.16.0)\n"
          ]
        }
      ],
      "source": [
        "!pip install --upgrade holidays"
      ]
    },
    {
      "cell_type": "markdown",
      "metadata": {
        "id": "_sA88fnpEUs4"
      },
      "source": [
        "## Introduction"
      ]
    },
    {
      "cell_type": "markdown",
      "metadata": {
        "id": "DBJb_GyBEUs6"
      },
      "source": []
    },
    {
      "cell_type": "markdown",
      "metadata": {
        "id": "WfDvlFm0EUs8"
      },
      "source": [
        "## Imports"
      ]
    },
    {
      "cell_type": "markdown",
      "metadata": {
        "id": "SRYdytAzEUtA"
      },
      "source": [
        "### Libraries\n"
      ]
    },
    {
      "cell_type": "code",
      "execution_count": 10,
      "metadata": {
        "colab": {
          "base_uri": "https://localhost:8080/"
        },
        "id": "e8ca_oQ5EUtH",
        "outputId": "d80105e6-da24-44b8-e005-e1d6fa5884df"
      },
      "outputs": [],
      "source": [
        "import sympy\n",
        "import pandas as pd\n",
        "import tensorflow as tf\n",
        "from keras.layers import LSTM, Dense, Dropout\n",
        "from keras.models import Sequential\n",
        "import numpy as np\n",
        "import kerastuner as kt\n",
        "from kerastuner.engine.hyperparameters import HyperParameters\n",
        "from datetime import datetime"
      ]
    },
    {
      "cell_type": "code",
      "execution_count": 11,
      "metadata": {
        "id": "pA2S_IWGEUtL"
      },
      "outputs": [
        {
          "ename": "ModuleNotFoundError",
          "evalue": "No module named 'google.colab'",
          "output_type": "error",
          "traceback": [
            "\u001b[1;31m---------------------------------------------------------------------------\u001b[0m",
            "\u001b[1;31mModuleNotFoundError\u001b[0m                       Traceback (most recent call last)",
            "\u001b[1;32m~\\AppData\\Local\\Temp\\ipykernel_29428\\2624590290.py\u001b[0m in \u001b[0;36m<module>\u001b[1;34m\u001b[0m\n\u001b[0;32m      3\u001b[0m \u001b[1;32mimport\u001b[0m \u001b[0mseaborn\u001b[0m \u001b[1;32mas\u001b[0m \u001b[0msns\u001b[0m\u001b[1;33m\u001b[0m\u001b[1;33m\u001b[0m\u001b[0m\n\u001b[0;32m      4\u001b[0m \u001b[1;32mfrom\u001b[0m \u001b[0mkeras\u001b[0m\u001b[1;33m.\u001b[0m\u001b[0mlayers\u001b[0m \u001b[1;32mimport\u001b[0m \u001b[0mLSTM\u001b[0m\u001b[1;33m,\u001b[0m \u001b[0mBidirectional\u001b[0m\u001b[1;33m,\u001b[0m \u001b[0mDense\u001b[0m\u001b[1;33m\u001b[0m\u001b[1;33m\u001b[0m\u001b[0m\n\u001b[1;32m----> 5\u001b[1;33m \u001b[1;32mfrom\u001b[0m \u001b[0mgoogle\u001b[0m\u001b[1;33m.\u001b[0m\u001b[0mcolab\u001b[0m \u001b[1;32mimport\u001b[0m \u001b[0mdrive\u001b[0m\u001b[1;33m\u001b[0m\u001b[1;33m\u001b[0m\u001b[0m\n\u001b[0m\u001b[0;32m      6\u001b[0m \u001b[1;32mimport\u001b[0m \u001b[0mkeras\u001b[0m\u001b[1;33m\u001b[0m\u001b[1;33m\u001b[0m\u001b[0m\n\u001b[0;32m      7\u001b[0m \u001b[1;32mfrom\u001b[0m \u001b[0mtensorflow\u001b[0m\u001b[1;33m.\u001b[0m\u001b[0mkeras\u001b[0m \u001b[1;32mimport\u001b[0m \u001b[0mcallbacks\u001b[0m\u001b[1;33m,\u001b[0m \u001b[0mlayers\u001b[0m\u001b[1;33m,\u001b[0m \u001b[0mlosses\u001b[0m\u001b[1;33m,\u001b[0m \u001b[0mmetrics\u001b[0m\u001b[1;33m,\u001b[0m \u001b[0moptimizers\u001b[0m\u001b[1;33m\u001b[0m\u001b[1;33m\u001b[0m\u001b[0m\n",
            "\u001b[1;31mModuleNotFoundError\u001b[0m: No module named 'google.colab'"
          ]
        }
      ],
      "source": [
        "import matplotlib.pyplot as plt\n",
        "import holidays\n",
        "import seaborn as sns\n",
        "from keras.layers import LSTM, Bidirectional, Dense\n",
        "from google.colab import drive \n",
        "import keras\n",
        "from tensorflow.keras import callbacks, layers, losses, metrics, optimizers"
      ]
    },
    {
      "cell_type": "code",
      "execution_count": null,
      "metadata": {
        "id": "Erou8uzWKbvc"
      },
      "outputs": [],
      "source": [
        "import tensorboard"
      ]
    },
    {
      "cell_type": "code",
      "execution_count": null,
      "metadata": {
        "colab": {
          "base_uri": "https://localhost:8080/"
        },
        "id": "LH4pe6iGEUtO",
        "outputId": "8efe08c3-e0ac-4ec9-a08f-211a98b652ce"
      },
      "outputs": [
        {
          "name": "stdout",
          "output_type": "stream",
          "text": [
            "Mounted at /content/drive\n"
          ]
        }
      ],
      "source": [
        "drive.mount(\"/content/drive\")"
      ]
    },
    {
      "cell_type": "code",
      "execution_count": null,
      "metadata": {
        "colab": {
          "base_uri": "https://localhost:8080/"
        },
        "id": "VOWs_A6WFmtf",
        "outputId": "e622cab0-2e7e-4b6c-8f6d-0b3e25a66f87"
      },
      "outputs": [
        {
          "name": "stdout",
          "output_type": "stream",
          "text": [
            "/content/drive/MyDrive/NOVA IMS/IMS Deep Neural Networks/DLNN Project\n"
          ]
        }
      ],
      "source": [
        "cd '/content/drive/MyDrive/NOVA IMS/IMS Deep Neural Networks/DLNN Project'"
      ]
    },
    {
      "cell_type": "markdown",
      "metadata": {
        "id": "2K1U-aiqEUtQ"
      },
      "source": [
        "### Data"
      ]
    },
    {
      "cell_type": "code",
      "execution_count": null,
      "metadata": {
        "id": "viIY5kaREUtT"
      },
      "outputs": [],
      "source": [
        "# Load the data\n",
        "worksheet_EnergyConsumption = pd.read_csv('/content/drive/MyDrive/NOVA IMS/IMS Deep Neural Networks/DLNN Project/consumption.csv')\n",
        "worksheet_Weather = pd.read_csv('/content/drive/MyDrive/NOVA IMS/IMS Deep Neural Networks/DLNN Project/weather.csv')"
      ]
    },
    {
      "cell_type": "code",
      "execution_count": null,
      "metadata": {
        "id": "EcMFgIdpEUtW"
      },
      "outputs": [],
      "source": [
        "def missing_zero_values_table(df):\n",
        "        zero_val = (df == 0.00).astype(int).sum(axis=0)\n",
        "        mis_val = df.isnull().sum()\n",
        "        mis_val_percent = 100 * df.isnull().sum() / len(df)\n",
        "        mz_table = pd.concat([zero_val, mis_val, mis_val_percent], axis=1)\n",
        "        mz_table = mz_table.rename(\n",
        "        columns = {0 : 'Zero Values', 1 : 'Missing Values', 2 : '% of Total Values'})\n",
        "        mz_table['Total Zero Missing Values'] = mz_table['Zero Values'] + mz_table['Missing Values']\n",
        "        mz_table['% Total Zero Missing Values'] = 100 * mz_table['Total Zero Missing Values'] / len(df)\n",
        "        mz_table['Data Type'] = df.dtypes\n",
        "        mz_table = mz_table[\n",
        "            mz_table.iloc[:,1] != 0].sort_values(\n",
        "        '% of Total Values', ascending=False).round(1)\n",
        "        print (\"Your selected dataframe has \" + str(df.shape[1]) + \" columns and \" + str(df.shape[0]) + \" Rows.\\n\"      \n",
        "            \"There are \" + str(mz_table.shape[0]) +\n",
        "              \" columns that have missing values.\")\n",
        "#         mz_table.to_excel('D:/sampledata/missing_and_zero_values.xlsx', freeze_panes=(1,0), index = False)\n",
        "        return mz_table\n"
      ]
    },
    {
      "cell_type": "code",
      "execution_count": null,
      "metadata": {
        "colab": {
          "base_uri": "https://localhost:8080/",
          "height": 274
        },
        "id": "E8_n0bVDEUtY",
        "outputId": "b36f30ac-3a71-411d-f2c0-57b57ebd4a4c"
      },
      "outputs": [
        {
          "name": "stdout",
          "output_type": "stream",
          "text": [
            "Your selected dataframe has 8 columns and 43823 Rows.\n",
            "There are 6 columns that have missing values.\n"
          ]
        },
        {
          "data": {
            "text/html": [
              "\n",
              "  <div id=\"df-e03d579f-e91f-461a-8be9-61c88ef3a76c\">\n",
              "    <div class=\"colab-df-container\">\n",
              "      <div>\n",
              "<style scoped>\n",
              "    .dataframe tbody tr th:only-of-type {\n",
              "        vertical-align: middle;\n",
              "    }\n",
              "\n",
              "    .dataframe tbody tr th {\n",
              "        vertical-align: top;\n",
              "    }\n",
              "\n",
              "    .dataframe thead th {\n",
              "        text-align: right;\n",
              "    }\n",
              "</style>\n",
              "<table border=\"1\" class=\"dataframe\">\n",
              "  <thead>\n",
              "    <tr style=\"text-align: right;\">\n",
              "      <th></th>\n",
              "      <th>Zero Values</th>\n",
              "      <th>Missing Values</th>\n",
              "      <th>% of Total Values</th>\n",
              "      <th>Total Zero Missing Values</th>\n",
              "      <th>% Total Zero Missing Values</th>\n",
              "      <th>Data Type</th>\n",
              "    </tr>\n",
              "  </thead>\n",
              "  <tbody>\n",
              "    <tr>\n",
              "      <th>PT_wind_generation_actual</th>\n",
              "      <td>0</td>\n",
              "      <td>43823</td>\n",
              "      <td>100.0</td>\n",
              "      <td>43823</td>\n",
              "      <td>100.0</td>\n",
              "      <td>float64</td>\n",
              "    </tr>\n",
              "    <tr>\n",
              "      <th>PT_wind_offshore_generation_actual</th>\n",
              "      <td>0</td>\n",
              "      <td>43823</td>\n",
              "      <td>100.0</td>\n",
              "      <td>43823</td>\n",
              "      <td>100.0</td>\n",
              "      <td>float64</td>\n",
              "    </tr>\n",
              "    <tr>\n",
              "      <th>PT_solar_generation_actual</th>\n",
              "      <td>20263</td>\n",
              "      <td>8</td>\n",
              "      <td>0.0</td>\n",
              "      <td>20271</td>\n",
              "      <td>46.3</td>\n",
              "      <td>float64</td>\n",
              "    </tr>\n",
              "    <tr>\n",
              "      <th>PT_load_actual_entsoe_transparency</th>\n",
              "      <td>0</td>\n",
              "      <td>1</td>\n",
              "      <td>0.0</td>\n",
              "      <td>1</td>\n",
              "      <td>0.0</td>\n",
              "      <td>float64</td>\n",
              "    </tr>\n",
              "    <tr>\n",
              "      <th>PT_load_forecast_entsoe_transparency</th>\n",
              "      <td>0</td>\n",
              "      <td>1</td>\n",
              "      <td>0.0</td>\n",
              "      <td>1</td>\n",
              "      <td>0.0</td>\n",
              "      <td>float64</td>\n",
              "    </tr>\n",
              "    <tr>\n",
              "      <th>PT_wind_onshore_generation_actual</th>\n",
              "      <td>0</td>\n",
              "      <td>1</td>\n",
              "      <td>0.0</td>\n",
              "      <td>1</td>\n",
              "      <td>0.0</td>\n",
              "      <td>float64</td>\n",
              "    </tr>\n",
              "  </tbody>\n",
              "</table>\n",
              "</div>\n",
              "      <button class=\"colab-df-convert\" onclick=\"convertToInteractive('df-e03d579f-e91f-461a-8be9-61c88ef3a76c')\"\n",
              "              title=\"Convert this dataframe to an interactive table.\"\n",
              "              style=\"display:none;\">\n",
              "        \n",
              "  <svg xmlns=\"http://www.w3.org/2000/svg\" height=\"24px\"viewBox=\"0 0 24 24\"\n",
              "       width=\"24px\">\n",
              "    <path d=\"M0 0h24v24H0V0z\" fill=\"none\"/>\n",
              "    <path d=\"M18.56 5.44l.94 2.06.94-2.06 2.06-.94-2.06-.94-.94-2.06-.94 2.06-2.06.94zm-11 1L8.5 8.5l.94-2.06 2.06-.94-2.06-.94L8.5 2.5l-.94 2.06-2.06.94zm10 10l.94 2.06.94-2.06 2.06-.94-2.06-.94-.94-2.06-.94 2.06-2.06.94z\"/><path d=\"M17.41 7.96l-1.37-1.37c-.4-.4-.92-.59-1.43-.59-.52 0-1.04.2-1.43.59L10.3 9.45l-7.72 7.72c-.78.78-.78 2.05 0 2.83L4 21.41c.39.39.9.59 1.41.59.51 0 1.02-.2 1.41-.59l7.78-7.78 2.81-2.81c.8-.78.8-2.07 0-2.86zM5.41 20L4 18.59l7.72-7.72 1.47 1.35L5.41 20z\"/>\n",
              "  </svg>\n",
              "      </button>\n",
              "      \n",
              "  <style>\n",
              "    .colab-df-container {\n",
              "      display:flex;\n",
              "      flex-wrap:wrap;\n",
              "      gap: 12px;\n",
              "    }\n",
              "\n",
              "    .colab-df-convert {\n",
              "      background-color: #E8F0FE;\n",
              "      border: none;\n",
              "      border-radius: 50%;\n",
              "      cursor: pointer;\n",
              "      display: none;\n",
              "      fill: #1967D2;\n",
              "      height: 32px;\n",
              "      padding: 0 0 0 0;\n",
              "      width: 32px;\n",
              "    }\n",
              "\n",
              "    .colab-df-convert:hover {\n",
              "      background-color: #E2EBFA;\n",
              "      box-shadow: 0px 1px 2px rgba(60, 64, 67, 0.3), 0px 1px 3px 1px rgba(60, 64, 67, 0.15);\n",
              "      fill: #174EA6;\n",
              "    }\n",
              "\n",
              "    [theme=dark] .colab-df-convert {\n",
              "      background-color: #3B4455;\n",
              "      fill: #D2E3FC;\n",
              "    }\n",
              "\n",
              "    [theme=dark] .colab-df-convert:hover {\n",
              "      background-color: #434B5C;\n",
              "      box-shadow: 0px 1px 3px 1px rgba(0, 0, 0, 0.15);\n",
              "      filter: drop-shadow(0px 1px 2px rgba(0, 0, 0, 0.3));\n",
              "      fill: #FFFFFF;\n",
              "    }\n",
              "  </style>\n",
              "\n",
              "      <script>\n",
              "        const buttonEl =\n",
              "          document.querySelector('#df-e03d579f-e91f-461a-8be9-61c88ef3a76c button.colab-df-convert');\n",
              "        buttonEl.style.display =\n",
              "          google.colab.kernel.accessAllowed ? 'block' : 'none';\n",
              "\n",
              "        async function convertToInteractive(key) {\n",
              "          const element = document.querySelector('#df-e03d579f-e91f-461a-8be9-61c88ef3a76c');\n",
              "          const dataTable =\n",
              "            await google.colab.kernel.invokeFunction('convertToInteractive',\n",
              "                                                     [key], {});\n",
              "          if (!dataTable) return;\n",
              "\n",
              "          const docLinkHtml = 'Like what you see? Visit the ' +\n",
              "            '<a target=\"_blank\" href=https://colab.research.google.com/notebooks/data_table.ipynb>data table notebook</a>'\n",
              "            + ' to learn more about interactive tables.';\n",
              "          element.innerHTML = '';\n",
              "          dataTable['output_type'] = 'display_data';\n",
              "          await google.colab.output.renderOutput(dataTable, element);\n",
              "          const docLink = document.createElement('div');\n",
              "          docLink.innerHTML = docLinkHtml;\n",
              "          element.appendChild(docLink);\n",
              "        }\n",
              "      </script>\n",
              "    </div>\n",
              "  </div>\n",
              "  "
            ],
            "text/plain": [
              "                                      Zero Values  Missing Values  \\\n",
              "PT_wind_generation_actual                       0           43823   \n",
              "PT_wind_offshore_generation_actual              0           43823   \n",
              "PT_solar_generation_actual                  20263               8   \n",
              "PT_load_actual_entsoe_transparency              0               1   \n",
              "PT_load_forecast_entsoe_transparency            0               1   \n",
              "PT_wind_onshore_generation_actual               0               1   \n",
              "\n",
              "                                      % of Total Values  \\\n",
              "PT_wind_generation_actual                         100.0   \n",
              "PT_wind_offshore_generation_actual                100.0   \n",
              "PT_solar_generation_actual                          0.0   \n",
              "PT_load_actual_entsoe_transparency                  0.0   \n",
              "PT_load_forecast_entsoe_transparency                0.0   \n",
              "PT_wind_onshore_generation_actual                   0.0   \n",
              "\n",
              "                                      Total Zero Missing Values  \\\n",
              "PT_wind_generation_actual                                 43823   \n",
              "PT_wind_offshore_generation_actual                        43823   \n",
              "PT_solar_generation_actual                                20271   \n",
              "PT_load_actual_entsoe_transparency                            1   \n",
              "PT_load_forecast_entsoe_transparency                          1   \n",
              "PT_wind_onshore_generation_actual                             1   \n",
              "\n",
              "                                      % Total Zero Missing Values Data Type  \n",
              "PT_wind_generation_actual                                   100.0   float64  \n",
              "PT_wind_offshore_generation_actual                          100.0   float64  \n",
              "PT_solar_generation_actual                                   46.3   float64  \n",
              "PT_load_actual_entsoe_transparency                            0.0   float64  \n",
              "PT_load_forecast_entsoe_transparency                          0.0   float64  \n",
              "PT_wind_onshore_generation_actual                             0.0   float64  "
            ]
          },
          "execution_count": 12,
          "metadata": {},
          "output_type": "execute_result"
        }
      ],
      "source": [
        "missing_zero_values_table(worksheet_EnergyConsumption)"
      ]
    },
    {
      "cell_type": "code",
      "execution_count": null,
      "metadata": {
        "colab": {
          "base_uri": "https://localhost:8080/",
          "height": 86
        },
        "id": "0jaeSKG9EUtb",
        "outputId": "ff5d66bb-7e9a-48a4-adeb-4c9b252c2bd9"
      },
      "outputs": [
        {
          "name": "stdout",
          "output_type": "stream",
          "text": [
            "Your selected dataframe has 4 columns and 43823 Rows.\n",
            "There are 0 columns that have missing values.\n"
          ]
        },
        {
          "data": {
            "text/html": [
              "\n",
              "  <div id=\"df-a51f88eb-fe3f-4227-8f6b-d3c319f6393b\">\n",
              "    <div class=\"colab-df-container\">\n",
              "      <div>\n",
              "<style scoped>\n",
              "    .dataframe tbody tr th:only-of-type {\n",
              "        vertical-align: middle;\n",
              "    }\n",
              "\n",
              "    .dataframe tbody tr th {\n",
              "        vertical-align: top;\n",
              "    }\n",
              "\n",
              "    .dataframe thead th {\n",
              "        text-align: right;\n",
              "    }\n",
              "</style>\n",
              "<table border=\"1\" class=\"dataframe\">\n",
              "  <thead>\n",
              "    <tr style=\"text-align: right;\">\n",
              "      <th></th>\n",
              "      <th>Zero Values</th>\n",
              "      <th>Missing Values</th>\n",
              "      <th>% of Total Values</th>\n",
              "      <th>Total Zero Missing Values</th>\n",
              "      <th>% Total Zero Missing Values</th>\n",
              "      <th>Data Type</th>\n",
              "    </tr>\n",
              "  </thead>\n",
              "  <tbody>\n",
              "  </tbody>\n",
              "</table>\n",
              "</div>\n",
              "      <button class=\"colab-df-convert\" onclick=\"convertToInteractive('df-a51f88eb-fe3f-4227-8f6b-d3c319f6393b')\"\n",
              "              title=\"Convert this dataframe to an interactive table.\"\n",
              "              style=\"display:none;\">\n",
              "        \n",
              "  <svg xmlns=\"http://www.w3.org/2000/svg\" height=\"24px\"viewBox=\"0 0 24 24\"\n",
              "       width=\"24px\">\n",
              "    <path d=\"M0 0h24v24H0V0z\" fill=\"none\"/>\n",
              "    <path d=\"M18.56 5.44l.94 2.06.94-2.06 2.06-.94-2.06-.94-.94-2.06-.94 2.06-2.06.94zm-11 1L8.5 8.5l.94-2.06 2.06-.94-2.06-.94L8.5 2.5l-.94 2.06-2.06.94zm10 10l.94 2.06.94-2.06 2.06-.94-2.06-.94-.94-2.06-.94 2.06-2.06.94z\"/><path d=\"M17.41 7.96l-1.37-1.37c-.4-.4-.92-.59-1.43-.59-.52 0-1.04.2-1.43.59L10.3 9.45l-7.72 7.72c-.78.78-.78 2.05 0 2.83L4 21.41c.39.39.9.59 1.41.59.51 0 1.02-.2 1.41-.59l7.78-7.78 2.81-2.81c.8-.78.8-2.07 0-2.86zM5.41 20L4 18.59l7.72-7.72 1.47 1.35L5.41 20z\"/>\n",
              "  </svg>\n",
              "      </button>\n",
              "      \n",
              "  <style>\n",
              "    .colab-df-container {\n",
              "      display:flex;\n",
              "      flex-wrap:wrap;\n",
              "      gap: 12px;\n",
              "    }\n",
              "\n",
              "    .colab-df-convert {\n",
              "      background-color: #E8F0FE;\n",
              "      border: none;\n",
              "      border-radius: 50%;\n",
              "      cursor: pointer;\n",
              "      display: none;\n",
              "      fill: #1967D2;\n",
              "      height: 32px;\n",
              "      padding: 0 0 0 0;\n",
              "      width: 32px;\n",
              "    }\n",
              "\n",
              "    .colab-df-convert:hover {\n",
              "      background-color: #E2EBFA;\n",
              "      box-shadow: 0px 1px 2px rgba(60, 64, 67, 0.3), 0px 1px 3px 1px rgba(60, 64, 67, 0.15);\n",
              "      fill: #174EA6;\n",
              "    }\n",
              "\n",
              "    [theme=dark] .colab-df-convert {\n",
              "      background-color: #3B4455;\n",
              "      fill: #D2E3FC;\n",
              "    }\n",
              "\n",
              "    [theme=dark] .colab-df-convert:hover {\n",
              "      background-color: #434B5C;\n",
              "      box-shadow: 0px 1px 3px 1px rgba(0, 0, 0, 0.15);\n",
              "      filter: drop-shadow(0px 1px 2px rgba(0, 0, 0, 0.3));\n",
              "      fill: #FFFFFF;\n",
              "    }\n",
              "  </style>\n",
              "\n",
              "      <script>\n",
              "        const buttonEl =\n",
              "          document.querySelector('#df-a51f88eb-fe3f-4227-8f6b-d3c319f6393b button.colab-df-convert');\n",
              "        buttonEl.style.display =\n",
              "          google.colab.kernel.accessAllowed ? 'block' : 'none';\n",
              "\n",
              "        async function convertToInteractive(key) {\n",
              "          const element = document.querySelector('#df-a51f88eb-fe3f-4227-8f6b-d3c319f6393b');\n",
              "          const dataTable =\n",
              "            await google.colab.kernel.invokeFunction('convertToInteractive',\n",
              "                                                     [key], {});\n",
              "          if (!dataTable) return;\n",
              "\n",
              "          const docLinkHtml = 'Like what you see? Visit the ' +\n",
              "            '<a target=\"_blank\" href=https://colab.research.google.com/notebooks/data_table.ipynb>data table notebook</a>'\n",
              "            + ' to learn more about interactive tables.';\n",
              "          element.innerHTML = '';\n",
              "          dataTable['output_type'] = 'display_data';\n",
              "          await google.colab.output.renderOutput(dataTable, element);\n",
              "          const docLink = document.createElement('div');\n",
              "          docLink.innerHTML = docLinkHtml;\n",
              "          element.appendChild(docLink);\n",
              "        }\n",
              "      </script>\n",
              "    </div>\n",
              "  </div>\n",
              "  "
            ],
            "text/plain": [
              "Empty DataFrame\n",
              "Columns: [Zero Values, Missing Values, % of Total Values, Total Zero Missing Values, % Total Zero Missing Values, Data Type]\n",
              "Index: []"
            ]
          },
          "execution_count": 13,
          "metadata": {},
          "output_type": "execute_result"
        }
      ],
      "source": [
        "missing_zero_values_table(worksheet_Weather)"
      ]
    },
    {
      "cell_type": "code",
      "execution_count": null,
      "metadata": {
        "id": "6coicgaDEUte"
      },
      "outputs": [],
      "source": [
        "# Transform timestamp datatype\n",
        "worksheet_EnergyConsumption[\"utc_timestamp\"] = pd.to_datetime(worksheet_EnergyConsumption[\"utc_timestamp\"])\n",
        "worksheet_Weather[\"utc_timestamp\"] = pd.to_datetime(worksheet_Weather[\"utc_timestamp\"])\n",
        "\n",
        "# As seguintes colunas estão todas NaN, não são uteis. The remaining columns are removed since they aren't usefull.\n",
        "worksheet_EnergyConsumption.drop([\n",
        "    \"cet_cest_timestamp\",\n",
        "    \"PT_wind_generation_actual\",\n",
        "    \"PT_wind_offshore_generation_actual\",\n",
        "    \"PT_wind_onshore_generation_actual\",\n",
        "    \"PT_solar_generation_actual\",\n",
        "    \"PT_load_forecast_entsoe_transparency\"\n",
        "], axis=1, inplace=True)\n",
        "\n",
        "# Bfill \n",
        "#worksheet_EnergyConsumption[\"PT_load_forecast_entsoe_transparency\"] = worksheet_EnergyConsumption[\"PT_load_forecast_entsoe_transparency\"].bfill()\n",
        "worksheet_EnergyConsumption[\"PT_load_actual_entsoe_transparency\"] = worksheet_EnergyConsumption[\"PT_load_actual_entsoe_transparency\"].bfill()\n"
      ]
    },
    {
      "cell_type": "code",
      "execution_count": null,
      "metadata": {
        "id": "TqKR7rUlEUti"
      },
      "outputs": [],
      "source": [
        "#pt_holidays=holidays.country_holidays('PT')\n",
        "#worksheet_EnergyConsumption['isHoliday']=pd.Series(worksheet_EnergyConsumption.index).apply(lambda x: holidays.country_holidays('PT').get(x)).values.astype('bool').astype('int')"
      ]
    },
    {
      "cell_type": "code",
      "execution_count": null,
      "metadata": {
        "id": "Y3icpq8PEUtm"
      },
      "outputs": [],
      "source": [
        "df=pd.merge(worksheet_EnergyConsumption, worksheet_Weather, on=\"utc_timestamp\")"
      ]
    },
    {
      "cell_type": "code",
      "execution_count": null,
      "metadata": {
        "id": "aBq_piPcEUto"
      },
      "outputs": [],
      "source": [
        "# Timestamps are very usefull as inputs for modelling purposes, especially when using time series.\n",
        "# If there is peridiocity within the physical phenomena which generates the feature we're measuring, then to use the \"timestamp\" we must transform the data into a \"readable format\" for the model, not this string-like form.\n",
        "# Therefore, we can transform this timeperiod into a \"signal\" - the sine and cosine transforms. This signal, represented by sin and cosin waves will \"emulate\" the \"time of the day\" and \"of the year\" as usable signals/data.\n",
        "# Being weather and energy consumption data, it has clear daily and yearly periodicity. There are many ways you could deal with periodicity.\n",
        "date_time=worksheet_EnergyConsumption[\"utc_timestamp\"].copy()\n",
        "timestamp_s=date_time.map(pd.Timestamp.timestamp)\n",
        "day = 24*60*60\n",
        "year = (365.2425)*day\n",
        "\n",
        "df['Day sin'] = np.sin(timestamp_s * (2 * np.pi / day))\n",
        "df['Day cos'] = np.cos(timestamp_s * (2 * np.pi / day))\n",
        "df['Year sin'] = np.sin(timestamp_s * (2 * np.pi / year))\n",
        "df['Year cos'] = np.cos(timestamp_s * (2 * np.pi / year))\n"
      ]
    },
    {
      "cell_type": "code",
      "execution_count": null,
      "metadata": {
        "colab": {
          "base_uri": "https://localhost:8080/",
          "height": 1000
        },
        "id": "QAl15TMbEUtp",
        "outputId": "bc53a182-a558-4d3b-d226-4c1d863ba34b"
      },
      "outputs": [
        {
          "data": {
            "image/png": "[encoded data removed]",
            "text/plain": [
              "<Figure size 432x288 with 1 Axes>"
            ]
          },
          "metadata": {
            "needs_background": "light"
          },
          "output_type": "display_data"
        },
        {
          "data": {
            "image/png": "[encoded data removed]",
            "text/plain": [
              "<Figure size 432x288 with 1 Axes>"
            ]
          },
          "metadata": {
            "needs_background": "light"
          },
          "output_type": "display_data"
        },
        {
          "data": {
            "image/png": "[encoded data removed]",
            "text/plain": [
              "<Figure size 432x288 with 1 Axes>"
            ]
          },
          "metadata": {
            "needs_background": "light"
          },
          "output_type": "display_data"
        },
        {
          "data": {
            "image/png": "[encoded data removed]",
            "text/plain": [
              "<Figure size 432x288 with 1 Axes>"
            ]
          },
          "metadata": {
            "needs_background": "light"
          },
          "output_type": "display_data"
        }
      ],
      "source": [
        "# para confirmar a periocidade diária e anual através da FFT: (Transformada de Fourier - explicar um pouco o que é?)\n",
        "# COMMENT: After a carefull look at the results we can clearly observe and confirm our assumptions: \n",
        "# both yearly and daily periodiocity exist. However, a intra-daily peridiocity also is highlighted in the graphs,\n",
        "# especially in the features which concern radiation. This intra-day is explained by the \"solar cycle\", the time of the day.  \n",
        "def plot_fft(df):\n",
        "    columns=df.columns\n",
        "    for col in columns:\n",
        "        values=df[col].values\n",
        "        fft=np.fft.fft(values)\n",
        "        fft = tf.signal.rfft(df[col])\n",
        "        f_per_dataset = np.arange(0, len(fft))\n",
        "\n",
        "        n_samples_h = len(df[col])\n",
        "        hours_per_year = 24*365.2524\n",
        "        years_per_dataset = n_samples_h/(hours_per_year)\n",
        "\n",
        "        f_per_year = f_per_dataset/years_per_dataset\n",
        "        plt.figure()\n",
        "        plt.step(f_per_year, np.abs(fft))\n",
        "        plt.xscale('log')\n",
        "        \n",
        "        plt.xlim([0.1, max(plt.xlim())])\n",
        "        plt.xticks([1, 365.2524], labels=['1/Year', '1/day'])\n",
        "        _ = plt.xlabel('Frequency (log scale)')\n",
        "        plt.title(col)\n",
        "\n",
        "    plt.show()\n",
        "df_copy=df.loc[:,[\"PT_load_actual_entsoe_transparency\",\"PT_temperature\",\"PT_radiation_direct_horizontal\",\"PT_radiation_diffuse_horizontal\"]]\n",
        "plot_fft(df_copy)"
      ]
    },
    {
      "cell_type": "code",
      "execution_count": null,
      "metadata": {
        "id": "Go1rZhYVEUtr"
      },
      "outputs": [],
      "source": [
        "df=df.set_index('utc_timestamp')"
      ]
    },
    {
      "cell_type": "code",
      "execution_count": null,
      "metadata": {
        "id": "LruDjv1VEUtt"
      },
      "outputs": [],
      "source": [
        "num_features=len(df.columns)"
      ]
    },
    {
      "cell_type": "code",
      "execution_count": null,
      "metadata": {
        "id": "HLsTf5d4EUtv"
      },
      "outputs": [],
      "source": [
        "# Splitting the data -\n",
        "# slicing the data for\n",
        "# - Training : [2015-2017]\n",
        "# - Test: [2018]\n",
        "# - Validation [2019]\n",
        "# COMMENTS: \n",
        "# Em timeseries forecasting pode-se fazer é testar os modelos com splits diferentes, para fazer cross validation dos datasets utilizados. Caso contrário podemos cair no erro de seleccionar o melhor modelo, randomly, para o split que fizemos apenas.\n",
        "\n",
        "df_train=df.loc['2015':'2017'].copy()\n",
        "df_test=df.loc['2018'].copy()\n",
        "df_validation=df.loc['2019'].copy()\n"
      ]
    },
    {
      "cell_type": "code",
      "execution_count": null,
      "metadata": {
        "id": "U-OwqefqEUtw"
      },
      "outputs": [],
      "source": [
        "# Normalize the data\n",
        "# The normalization should not consider the time-series/features within the test and validation sets. \n",
        "# Hence, \"the mean and standard deviation should only be computed using the training data \n",
        "# so that the models have no access to the values in the validation and test sets.\"\n",
        "# ref- https://www.tensorflow.org/tutorials/structured_data/time_series\n",
        "train_mean = df_train.mean()\n",
        "train_std = df_train.std()\n",
        "\n",
        "train_df = (df_train - train_mean) / train_std\n",
        "val_df = (df_validation - train_mean) / train_std\n",
        "test_df = (df_test - train_mean) / train_std"
      ]
    },
    {
      "cell_type": "code",
      "execution_count": null,
      "metadata": {
        "colab": {
          "base_uri": "https://localhost:8080/",
          "height": 453
        },
        "id": "UcI_OXQHEUt0",
        "outputId": "81adc846-543e-44b0-c002-55a81d1c82ce"
      },
      "outputs": [
        {
          "data": {
            "image/png": "[encoded data removed]",
            "text/plain": [
              "<Figure size 432x288 with 1 Axes>"
            ]
          },
          "metadata": {
            "needs_background": "light"
          },
          "output_type": "display_data"
        }
      ],
      "source": [
        "df_std = (df - train_mean) / train_std\n",
        "df_std = df_std.melt(var_name='Column', value_name='Normalized')\n",
        "plt.figure()\n",
        "ax = sns.violinplot(x='Column', y='Normalized', data=df_std)\n",
        "_ = ax.set_xticklabels(df.keys(), rotation=90)\n"
      ]
    },
    {
      "cell_type": "code",
      "execution_count": 6,
      "metadata": {
        "colab": {
          "base_uri": "https://localhost:8080/"
        },
        "id": "qAuwfmSIzUEQ",
        "outputId": "3892e792-8aa2-4f10-d2af-e30cbdd1fcba"
      },
      "outputs": [
        {
          "ename": "NameError",
          "evalue": "name 'df' is not defined",
          "output_type": "error",
          "traceback": [
            "\u001b[1;31m---------------------------------------------------------------------------\u001b[0m",
            "\u001b[1;31mNameError\u001b[0m                                 Traceback (most recent call last)",
            "\u001b[1;32m~\\AppData\\Local\\Temp\\ipykernel_29428\\991978874.py\u001b[0m in \u001b[0;36m<module>\u001b[1;34m\u001b[0m\n\u001b[0;32m      1\u001b[0m \u001b[1;32mfrom\u001b[0m \u001b[0mstatsmodels\u001b[0m\u001b[1;33m.\u001b[0m\u001b[0mtsa\u001b[0m\u001b[1;33m.\u001b[0m\u001b[0mstattools\u001b[0m \u001b[1;32mimport\u001b[0m \u001b[0madfuller\u001b[0m\u001b[1;33m\u001b[0m\u001b[1;33m\u001b[0m\u001b[0m\n\u001b[0;32m      2\u001b[0m \u001b[1;33m\u001b[0m\u001b[0m\n\u001b[1;32m----> 3\u001b[1;33m \u001b[1;32mfor\u001b[0m \u001b[0mcol\u001b[0m \u001b[1;32min\u001b[0m \u001b[0mdf\u001b[0m\u001b[1;33m.\u001b[0m\u001b[0mcolumns\u001b[0m\u001b[1;33m:\u001b[0m\u001b[1;33m\u001b[0m\u001b[1;33m\u001b[0m\u001b[0m\n\u001b[0m\u001b[0;32m      4\u001b[0m   \u001b[1;31m# Perform the ADF test on the column\u001b[0m\u001b[1;33m\u001b[0m\u001b[1;33m\u001b[0m\u001b[0m\n\u001b[0;32m      5\u001b[0m     \u001b[0mresult\u001b[0m \u001b[1;33m=\u001b[0m \u001b[0madfuller\u001b[0m\u001b[1;33m(\u001b[0m\u001b[0mdf\u001b[0m\u001b[1;33m[\u001b[0m\u001b[0mcol\u001b[0m\u001b[1;33m]\u001b[0m\u001b[1;33m)\u001b[0m\u001b[1;33m\u001b[0m\u001b[1;33m\u001b[0m\u001b[0m\n",
            "\u001b[1;31mNameError\u001b[0m: name 'df' is not defined"
          ]
        }
      ],
      "source": [
        "from statsmodels.tsa.stattools import adfuller\n",
        "\n",
        "for col in df.columns:\n",
        "  # Perform the ADF test on the column\n",
        "    result = adfuller(df[col])\n",
        "    # Print the test statistic and p-value\n",
        "    print(f\"Test statistic for {col}: {result[0]}\")\n",
        "    print(f\"p-value for {col}: {result[1]}\")\n",
        "\n",
        "    # Interpret the results\n",
        "    if result[1] < 0.05:\n",
        "        print(f\"{col} is stationary\")\n",
        "    else:\n",
        "        print(f\"{col} is non-stationary\")\n",
        "# Perform the ADF test on the time series\n",
        "#result = adfuller(df['PT_load_actual_entsoe_transparency'])\n",
        "#result = adfuller(df['PT_temperature'])\n",
        "\n",
        "# Print the test statistic and the p-value\n",
        "# print(f\"Test statistic: {result[0]}\")\n",
        "# print(f\"p-value: {result[1]}\")\n",
        "\n",
        "# # Interpret the results\n",
        "# if result[1] < 0.05:\n",
        "#     print(\"The time series is stationary\")\n",
        "# else:\n",
        "#     print(\"The time series is non-stationary\")"
      ]
    },
    {
      "cell_type": "markdown",
      "metadata": {
        "id": "GLgMbYtEEUt3"
      },
      "source": [
        "## Data Exploration"
      ]
    },
    {
      "cell_type": "code",
      "execution_count": null,
      "metadata": {
        "colab": {
          "base_uri": "https://localhost:8080/",
          "height": 577
        },
        "id": "U_EVc7hXEUt4",
        "outputId": "b5bd5e59-1dd5-4d4e-d982-199c232ddb1d"
      },
      "outputs": [
        {
          "data": {
            "image/png": "[encoded data removed]",
            "text/plain": [
              "<Figure size 432x288 with 4 Axes>"
            ]
          },
          "execution_count": 29,
          "metadata": {},
          "output_type": "execute_result"
        },
        {
          "data": {
            "image/png": "[encoded data removed]",
            "text/plain": [
              "<Figure size 432x288 with 4 Axes>"
            ]
          },
          "metadata": {
            "needs_background": "light"
          },
          "output_type": "display_data"
        }
      ],
      "source": [
        "# Para tentar \"completar\" esta secção podemos fazer uns plots bónitos dos perfis de consumo e temperatura e radiação\n",
        "# Podemos também decompor estas em perfis sazonais, diários, semanais, mensais, etc.\n",
        "# AKA Timeseries decomposition através da statsmodel\n",
        "# - Seasonal\n",
        "# - Autocorrelation function (acf)\n",
        "# - Partial Autocorrelation function (PACF)\n",
        "# refs & exemplos - https://neptune.ai/blog/select-model-for-time-series-prediction-task\n",
        "\n",
        "from statsmodels.tsa.seasonal import seasonal_decompose\n",
        "result = seasonal_decompose(df['PT_load_actual_entsoe_transparency'])\n",
        "result.plot()"
      ]
    },
    {
      "cell_type": "code",
      "execution_count": null,
      "metadata": {
        "id": "ED8ws7TjEUt6"
      },
      "outputs": [],
      "source": [
        "# # Necessitamos de ver se os dados são, ou não, estacionários.\n",
        "# \"it is highly necessary to check if the data is stationary. In time series forecasting, we cannot derive valuable insights from data if it is stationary.\"\n",
        "# https://www.geeksforgeeks.org/how-to-check-if-time-series-data-is-stationary-with-python/\n",
        "# https://machinelearningmastery.com/time-series-data-stationary-python/"
      ]
    },
    {
      "cell_type": "markdown",
      "metadata": {
        "id": "0yugIPy9EUt7"
      },
      "source": [
        "## Modelling"
      ]
    },
    {
      "cell_type": "markdown",
      "metadata": {
        "id": "ikUqLUoXEUt8"
      },
      "source": [
        "Metrics to use:\n",
        "- RMSE\n",
        "- MSE\n",
        "- MAE\n",
        "- MAPE\n",
        "- r2 (?)\n",
        "        \n",
        "ref- https://analyticsindiamag.com/a-guide-to-different-evaluation-metrics-for-time-series-forecasting-models/"
      ]
    },
    {
      "cell_type": "code",
      "execution_count": 26,
      "metadata": {
        "id": "K32yBBslEUt-"
      },
      "outputs": [],
      "source": [
        "# Set the input_sequence_length length - this is the \"window\" timeframe used to make a single prediction\n",
        "input_sequence_length = 24\n",
        "# The output sequence length is the number of steps that the neural network predicts\n",
        "output_sequence_length = 24\n",
        "\n",
        "# Index for the forecasted variable - energy consumption\n",
        "index_target = df_train.columns.get_loc(\"PT_load_actual_entsoe_transparency\")\n"
      ]
    },
    {
      "cell_type": "code",
      "execution_count": 27,
      "metadata": {
        "id": "F22ZFiC5EUuA"
      },
      "outputs": [],
      "source": [
        "def partition_dataset(input_sequence_length, output_sequence_length, data):\n",
        "    x, y = [], []\n",
        "    data_len = data.shape[0]\n",
        "    for i in range(input_sequence_length, data_len - output_sequence_length):\n",
        "        x.append(data.iloc[i-input_sequence_length:i,:])\n",
        "        y.append(data.iloc[i:i + output_sequence_length, index_target]) \n",
        "    \n",
        "    # Convert the x and y to numpy arrays\n",
        "    x = np.array(x).astype(float)\n",
        "    y = np.array(y).astype(float)\n",
        "    return x, y\n"
      ]
    },
    {
      "cell_type": "code",
      "execution_count": 28,
      "metadata": {
        "id": "HPr_Wln4EUuC"
      },
      "outputs": [],
      "source": [
        "x_train, y_train = partition_dataset(input_sequence_length, output_sequence_length, train_df)\n",
        "x_test, y_test = partition_dataset(input_sequence_length, output_sequence_length, test_df)\n",
        "x_validation,y_validation= partition_dataset(input_sequence_length, output_sequence_length, val_df)"
      ]
    },
    {
      "cell_type": "code",
      "execution_count": null,
      "metadata": {
        "id": "oBfKP_tqEUuF"
      },
      "outputs": [],
      "source": [
        "# def sliding_window(data, window_size, forecast_horizon):\n",
        "#     # Initialize a list to store the input and output sequences\n",
        "#     input_sequences = []\n",
        "#     output_sequences = []\n",
        "\n",
        "#     # Iterate over the data and create the input and output sequences\n",
        "#     for i in range(len(data) - window_size - forecast_horizon + 1):\n",
        "#         input_sequences.append(data[i:i + window_size])\n",
        "#         output_sequences.append(data[i + window_size:i + window_size + forecast_horizon])\n",
        "\n",
        "#     return input_sequences, output_sequences"
      ]
    },
    {
      "cell_type": "code",
      "execution_count": null,
      "metadata": {
        "id": "VoLBhIb4EUuJ"
      },
      "outputs": [],
      "source": [
        "# # Set the window size to 24 and the forecast horizon to 24\n",
        "# window_size = 24\n",
        "# forecast_horizon = 24\n",
        "# # Create the input and output sequences using the sliding window function\n",
        "# train_input_sequences, train_output_sequences = sliding_window(df_train, window_size, forecast_horizon)"
      ]
    },
    {
      "cell_type": "markdown",
      "metadata": {
        "id": "dLqb7T6ZEUuM"
      },
      "source": [
        "### Baseline\n",
        "        Persistence"
      ]
    },
    {
      "cell_type": "markdown",
      "metadata": {
        "id": "Wqz57grJEUuO"
      },
      "source": [
        "A persistência é o método de baseline mais condiserado e que, como o nome indica, considera que o valor para o futuro é igual à ultima observação. Pode ser denotado pela seguinte equação:\n",
        "\n",
        "$ T_{t+1} = T_{t} $ "
      ]
    },
    {
      "cell_type": "code",
      "execution_count": 29,
      "metadata": {
        "id": "HLP6WimOEUuP"
      },
      "outputs": [],
      "source": [
        "# Baseline model - persistence/naive forecast (of last observation):\n",
        "y_pred_persistence=np.zeros((y_train.shape),dtype=float)\n",
        "for i in range(len(y_pred_persistence)):\n",
        "    y_pred_persistence[i,:]=x_train[i,-1][0]\n",
        "#aux. variable for plot\n",
        "x_copy=np.zeros((y_train.shape),dtype=float)\n",
        "for r in range(x_train.shape[0]):\n",
        "    for c in range((x_train.shape[1])):\n",
        "        x_copy[r,c]=x_train[r,c,0]\n"
      ]
    },
    {
      "cell_type": "code",
      "execution_count": 30,
      "metadata": {
        "id": "_MXCB9zvEUuR"
      },
      "outputs": [],
      "source": [
        "# x-axis aux. vectors\n",
        "x_input=np.arange(0,24)\n",
        "x_ahead=np.arange(24,48)"
      ]
    },
    {
      "cell_type": "code",
      "execution_count": 31,
      "metadata": {
        "colab": {
          "base_uri": "https://localhost:8080/",
          "height": 285
        },
        "id": "J8QVL3-pEUuS",
        "outputId": "75c54f97-a221-44bc-a064-7ffdde3fe547"
      },
      "outputs": [
        {
          "data": {
            "text/plain": [
              "<matplotlib.legend.Legend at 0x7f052485a9d0>"
            ]
          },
          "execution_count": 31,
          "metadata": {},
          "output_type": "execute_result"
        },
        {
          "data": {
            "image/png": "[encoded data removed]",
            "text/plain": [
              "<Figure size 432x288 with 1 Axes>"
            ]
          },
          "metadata": {
            "needs_background": "light"
          },
          "output_type": "display_data"
        }
      ],
      "source": [
        "plt.figure()\n",
        "plt.plot()\n",
        "plt.plot(x_input,x_copy[0],color='blue', label='Inputs',marker='o')\n",
        "plt.plot(x_ahead,y_pred_persistence[0], color='red', label = 'Persistence Predictions (Y_forecast)')\n",
        "plt.plot(x_ahead,y_train[0],color='black',label='Labels (Y_true)',linestyle='dashed')\n",
        "plt.legend()"
      ]
    },
    {
      "cell_type": "code",
      "execution_count": 33,
      "metadata": {
        "id": "2l-zHrRlEUuU"
      },
      "outputs": [],
      "source": [
        "from sklearn.metrics import mean_squared_error\n",
        "from sklearn.metrics import mean_absolute_percentage_error\n",
        "from sklearn.metrics import mean_absolute_error\n",
        "\n",
        "\n",
        "\n",
        "MSE_Persistence=mean_squared_error(y_true=y_train,y_pred=y_pred_persistence)\n",
        "RMSE_Persistence=mean_squared_error(y_true=y_train,y_pred=y_pred_persistence,squared=True)\n",
        "MAPE_Persistence=mean_absolute_percentage_error(y_true=y_train,y_pred=y_pred_persistence)\n",
        "MAE_Persistence=mean_absolute_error(y_true=y_train,y_pred=y_pred_persistence)"
      ]
    },
    {
      "cell_type": "markdown",
      "metadata": {
        "id": "lwE-d31JEUuY"
      },
      "source": [
        "### Simple RNN"
      ]
    },
    {
      "cell_type": "code",
      "execution_count": 1,
      "metadata": {
        "id": "3943h0OKEUuZ"
      },
      "outputs": [
        {
          "ename": "NameError",
          "evalue": "name 'keras' is not defined",
          "output_type": "error",
          "traceback": [
            "\u001b[1;31m---------------------------------------------------------------------------\u001b[0m",
            "\u001b[1;31mNameError\u001b[0m                                 Traceback (most recent call last)",
            "\u001b[1;32m~\\AppData\\Local\\Temp\\ipykernel_15152\\797313480.py\u001b[0m in \u001b[0;36m<module>\u001b[1;34m\u001b[0m\n\u001b[0;32m      3\u001b[0m \u001b[1;33m\u001b[0m\u001b[0m\n\u001b[0;32m      4\u001b[0m \u001b[0mworking_dir\u001b[0m\u001b[1;33m=\u001b[0m\u001b[0mos\u001b[0m\u001b[1;33m.\u001b[0m\u001b[0mgetcwd\u001b[0m\u001b[1;33m(\u001b[0m\u001b[1;33m)\u001b[0m\u001b[1;33m\u001b[0m\u001b[1;33m\u001b[0m\u001b[0m\n\u001b[1;32m----> 5\u001b[1;33m \u001b[0mtensorboard_callback\u001b[0m \u001b[1;33m=\u001b[0m \u001b[0mkeras\u001b[0m\u001b[1;33m.\u001b[0m\u001b[0mcallbacks\u001b[0m\u001b[1;33m.\u001b[0m\u001b[0mTensorBoard\u001b[0m\u001b[1;33m(\u001b[0m\u001b[0mlog_dir\u001b[0m \u001b[1;33m=\u001b[0m \u001b[0mos\u001b[0m\u001b[1;33m.\u001b[0m\u001b[0mpath\u001b[0m\u001b[1;33m.\u001b[0m\u001b[0mjoin\u001b[0m\u001b[1;33m(\u001b[0m\u001b[0mworking_dir\u001b[0m\u001b[1;33m,\u001b[0m \u001b[1;34m'logs'\u001b[0m\u001b[1;33m)\u001b[0m\u001b[1;33m)\u001b[0m\u001b[1;33m\u001b[0m\u001b[1;33m\u001b[0m\u001b[0m\n\u001b[0m\u001b[0;32m      6\u001b[0m \u001b[1;31m# Define the model\u001b[0m\u001b[1;33m\u001b[0m\u001b[1;33m\u001b[0m\u001b[0m\n\u001b[0;32m      7\u001b[0m \u001b[1;33m\u001b[0m\u001b[0m\n",
            "\u001b[1;31mNameError\u001b[0m: name 'keras' is not defined"
          ]
        }
      ],
      "source": [
        "# Create a TensorBoard callback\n",
        "import os\n",
        "\n",
        "working_dir=os.getcwd()\n",
        "tensorboard_callback = keras.callbacks.TensorBoard(log_dir = os.path.join(working_dir, 'logs'))\n",
        "# Define the model\n",
        "\n",
        "def build_model(hp):\n",
        "  model = keras.Sequential()\n",
        "  model.add(keras.layers.SimpleRNN(units=hp.Int('units', min_value=32, max_value=256, step=32),\n",
        "                                   input_shape=(None, num_features)))\n",
        "  model.compile(optimizer=hp.Choice('optimizer', values=['adam', 'sgd']),\n",
        "                loss='mean_squared_error',\n",
        "                metrics=['mean_absolute_error','mse', 'mape'])\n",
        "  return model\n",
        "\n",
        "# Create a tuner\n",
        "tuner = kt.Hyperband(build_model,\n",
        "                     objective='mean_absolute_error',\n",
        "                     max_epochs=100,\n",
        "                     factor=3,\n",
        "                     seed=1,hyperband_iterations=100,)\n",
        "\n",
        "# Search for the best model\n",
        "tuner.search(x_train, y_train, epochs=100, validation_data=(x_test, y_test),callbacks=[tensorboard_callback])"
      ]
    },
    {
      "cell_type": "code",
      "execution_count": 51,
      "metadata": {
        "colab": {
          "base_uri": "https://localhost:8080/",
          "height": 839
        },
        "id": "q-3VGcR2Imq6",
        "outputId": "d6d84258-c931-40db-a07e-f00cec658175"
      },
      "outputs": [
        {
          "data": {
            "text/plain": [
              "Reusing TensorBoard on port 6006 (pid 13129), started 0:00:32 ago. (Use '!kill 13129' to kill it.)"
            ]
          },
          "metadata": {},
          "output_type": "display_data"
        },
        {
          "data": {
            "application/javascript": "\n        (async () => {\n            const url = new URL(await google.colab.kernel.proxyPort(6006, {'cache': true}));\n            url.searchParams.set('tensorboardColab', 'true');\n            const iframe = document.createElement('iframe');\n            iframe.src = url;\n            iframe.setAttribute('width', '100%');\n            iframe.setAttribute('height', '800');\n            iframe.setAttribute('frameborder', 0);\n            document.body.appendChild(iframe);\n        })();\n    ",
            "text/plain": [
              "<IPython.core.display.Javascript object>"
            ]
          },
          "metadata": {},
          "output_type": "display_data"
        }
      ],
      "source": [
        "#%load_ext tensorboard\n",
        "%reload_ext tensorboard\n",
        "%tensorboard --logdir='/content/drive/MyDrive/NOVA IMS/IMS Deep Neural Networks/DLNN Project/logs' # Para chamar o callback e poder visualizar no tensorboard. "
      ]
    },
    {
      "cell_type": "code",
      "execution_count": 55,
      "metadata": {
        "id": "dl8yjcHCNs10"
      },
      "outputs": [],
      "source": [
        "!kill 13129"
      ]
    },
    {
      "cell_type": "code",
      "execution_count": 53,
      "metadata": {
        "colab": {
          "base_uri": "https://localhost:8080/"
        },
        "id": "_FMpQPTgHo2i",
        "outputId": "9edf4747-968f-4fb2-e3a7-8fd4dd9d5d45"
      },
      "outputs": [
        {
          "name": "stdout",
          "output_type": "stream",
          "text": [
            "273/273 [==============================] - 2s 4ms/step - loss: 0.1345 - mean_absolute_error: 0.2563 - mse: 0.1345 - mape: 171.9669\n"
          ]
        },
        {
          "data": {
            "text/plain": [
              "[0.1344510167837143,\n",
              " 0.25628453493118286,\n",
              " 0.1344510167837143,\n",
              " 171.96685791015625]"
            ]
          },
          "execution_count": 53,
          "metadata": {},
          "output_type": "execute_result"
        }
      ],
      "source": [
        "# Get the best model\n",
        "best_model = tuner.get_best_models(num_models=1)[0]\n",
        "\n",
        "# Evaluate the best model on the validation set\n",
        "best_model.evaluate(x_validation, y_validation)"
      ]
    },
    {
      "cell_type": "markdown",
      "metadata": {
        "id": "aeQzW-SZEUub"
      },
      "source": [
        "### Bi-LSTM"
      ]
    },
    {
      "cell_type": "code",
      "execution_count": null,
      "metadata": {
        "id": "UT8Zjha7EUuc"
      },
      "outputs": [],
      "source": [
        "# Define the model\n",
        "def build_model(hp):\n",
        "    model = Sequential()\n",
        "    lstm_activations=hp.Choice('lstm_activations', values=['relu', 'tanh','sigmoid'])\n",
        "    model.add(Bidirectional(LSTM(units=hp.Int('units', min_value=32, max_value=256, step=32),activation=lstm_activations, return_sequences=True, input_shape=(x_train.shape[1], x_train.shape[2]))))\n",
        "    model.add(Bidirectional(LSTM(units=hp.Int('units', min_value=32, max_value=256, step=32),activation=lstm_activations)))\n",
        "\n",
        "    #model.add(LSTM(units=hp.Int('units', min_value=32, max_value=256, step=32),activation=lstm_activations, return_sequences=True, input_shape=(x_train.shape[1], x_train.shape[2])))\n",
        "    #model.add(LSTM(units=hp.Int('units', min_value=32, max_value=256, step=32),return_sequences=True))\n",
        "    model.add(Dropout(hp.Float('dropout', min_value=0.0, max_value=0.5, step=0.1)))\n",
        "    dense_activations=hp.Choice('dense_activations', values=['relu', 'tanh','sigmoid'])\n",
        "    model.add(Dense(24,activation=dense_activations))\n",
        "    \n",
        "    # Choose an optimizer\n",
        "    optimizer = hp.Choice('optimizer', ['adam', 'sgd','rmsprop'])\n",
        "    if optimizer == 'adam':\n",
        "        optimizer = tf.keras.optimizers.Adam(\n",
        "            hp.Float('learning_rate', min_value=1e-4, max_value=1e-2, sampling='log'))\n",
        "    elif optimizer == 'sgd':\n",
        "        optimizer = tf.keras.optimizers.SGD(\n",
        "            hp.Float('learning_rate', min_value=1e-4, max_value=1e-2, sampling='log'))\n",
        "    else:    \n",
        "        optimizer = tf.keras.optimizers.RMSprop(\n",
        "            hp.Float('learning_rate', min_value=1e-4, max_value=1e-2, sampling='log'))\n",
        "        \n",
        "    # Compile the model\n",
        "    model.compile(optimizer=optimizer, loss=tf.keras.losses.MeanSquaredError(),metrics=['mse', 'mae', 'mape'])\n",
        "    model.summary\n",
        "    return model\n"
      ]
    },
    {
      "cell_type": "code",
      "execution_count": null,
      "metadata": {
        "id": "hLyy8sAXEUug"
      },
      "outputs": [],
      "source": [
        "import os\n",
        "#working_dir=os.getcwd()\n",
        "tensorboard_callback = keras.callbacks.TensorBoard(log_dir = '/content/drive/MyDrive/NOVA IMS/IMS Deep Neural Networks/DLNN Project')\n",
        "\n",
        "# Define the search space for Keras Tuner\n",
        "hps = HyperParameters()\n",
        "#hps.Choice('batch_size', [32, 64, 128, 256])\n",
        "#hps.Choice('activation', ['relu', 'tanh','sigmoid'])\n",
        "# Use the Keras Tuner to search for the best set of hyperparameters\n",
        "tuner = kt.Hyperband(build_model, objective='mse', max_epochs=10,directory=os.path.normpath('C:/'))\n",
        "tuner.search(x_train, y_train, epochs=100,validation_data=(x_validation, y_validation),callbacks=[tensorboard_callback])\n"
      ]
    },
    {
      "cell_type": "markdown",
      "metadata": {
        "id": "eOzR35o3EUui"
      },
      "source": [
        "## Results Analysis"
      ]
    },
    {
      "cell_type": "code",
      "execution_count": null,
      "metadata": {
        "id": "R0TdD5-UEUun"
      },
      "outputs": [],
      "source": []
    }
  ],
  "metadata": {
    "colab": {
      "provenance": []
    },
    "kernelspec": {
      "display_name": "Python 3.9.13 ('base')",
      "language": "python",
      "name": "python3"
    },
    "language_info": {
      "codemirror_mode": {
        "name": "ipython",
        "version": 3
      },
      "file_extension": ".py",
      "mimetype": "text/x-python",
      "name": "python",
      "nbconvert_exporter": "python",
      "pygments_lexer": "ipython3",
      "version": "3.9.13"
    },
    "orig_nbformat": 4,
    "vscode": {
      "interpreter": {
        "hash": "ee913d83a0c82c8d547cbbd2c0a6f5c15e3a23100419de5e4ed8e88628ce52c9"
      }
    }
  },
  "nbformat": 4,
  "nbformat_minor": 0
}
